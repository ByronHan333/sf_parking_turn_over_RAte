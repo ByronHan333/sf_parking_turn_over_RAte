{
 "cells": [
  {
   "cell_type": "code",
   "execution_count": 1,
   "metadata": {
    "ExecuteTime": {
     "end_time": "2019-01-16T20:12:59.377995Z",
     "start_time": "2019-01-16T20:12:58.949738Z"
    }
   },
   "outputs": [],
   "source": [
    "import pandas as pd"
   ]
  },
  {
   "cell_type": "code",
   "execution_count": 7,
   "metadata": {
    "ExecuteTime": {
     "end_time": "2019-01-16T20:14:18.608382Z",
     "start_time": "2019-01-16T20:14:18.495899Z"
    }
   },
   "outputs": [],
   "source": [
    "Meter_Rate_Schedules = pd.read_csv(\"Meter_Rate_Schedules.csv\")"
   ]
  },
  {
   "cell_type": "code",
   "execution_count": 13,
   "metadata": {
    "ExecuteTime": {
     "end_time": "2019-01-16T20:15:23.348040Z",
     "start_time": "2019-01-16T20:15:23.330747Z"
    }
   },
   "outputs": [
    {
     "data": {
      "text/html": [
       "<div>\n",
       "<style scoped>\n",
       "    .dataframe tbody tr th:only-of-type {\n",
       "        vertical-align: middle;\n",
       "    }\n",
       "\n",
       "    .dataframe tbody tr th {\n",
       "        vertical-align: top;\n",
       "    }\n",
       "\n",
       "    .dataframe thead th {\n",
       "        text-align: right;\n",
       "    }\n",
       "</style>\n",
       "<table border=\"1\" class=\"dataframe\">\n",
       "  <thead>\n",
       "    <tr style=\"text-align: right;\">\n",
       "      <th></th>\n",
       "      <th>Post ID</th>\n",
       "      <th>Schedule Priority</th>\n",
       "      <th>Days Applied</th>\n",
       "      <th>From Time</th>\n",
       "      <th>To Time</th>\n",
       "      <th>Rate Type</th>\n",
       "      <th>Rate</th>\n",
       "    </tr>\n",
       "  </thead>\n",
       "  <tbody>\n",
       "    <tr>\n",
       "      <th>885</th>\n",
       "      <td>201-02010</td>\n",
       "      <td>2</td>\n",
       "      <td>Mo,Tu,We,Th,Fr</td>\n",
       "      <td>12:00 PM</td>\n",
       "      <td>3:00 PM</td>\n",
       "      <td>Override to Base Rate</td>\n",
       "      <td>3.50</td>\n",
       "    </tr>\n",
       "    <tr>\n",
       "      <th>886</th>\n",
       "      <td>201-02010</td>\n",
       "      <td>3</td>\n",
       "      <td>Mo,Tu,We,Th,Fr</td>\n",
       "      <td>3:00 PM</td>\n",
       "      <td>6:00 PM</td>\n",
       "      <td>Override to Base Rate</td>\n",
       "      <td>3.25</td>\n",
       "    </tr>\n",
       "    <tr>\n",
       "      <th>887</th>\n",
       "      <td>201-02010</td>\n",
       "      <td>4</td>\n",
       "      <td>Mo,Tu,We,Th,Fr</td>\n",
       "      <td>7:00 AM</td>\n",
       "      <td>12:00 PM</td>\n",
       "      <td>Override to Base Rate</td>\n",
       "      <td>2.75</td>\n",
       "    </tr>\n",
       "    <tr>\n",
       "      <th>889</th>\n",
       "      <td>201-02030</td>\n",
       "      <td>2</td>\n",
       "      <td>Mo,Tu,We,Th,Fr</td>\n",
       "      <td>12:00 PM</td>\n",
       "      <td>3:00 PM</td>\n",
       "      <td>Override to Base Rate</td>\n",
       "      <td>3.50</td>\n",
       "    </tr>\n",
       "    <tr>\n",
       "      <th>890</th>\n",
       "      <td>201-02030</td>\n",
       "      <td>3</td>\n",
       "      <td>Mo,Tu,We,Th,Fr</td>\n",
       "      <td>3:00 PM</td>\n",
       "      <td>6:00 PM</td>\n",
       "      <td>Override to Base Rate</td>\n",
       "      <td>3.25</td>\n",
       "    </tr>\n",
       "  </tbody>\n",
       "</table>\n",
       "</div>"
      ],
      "text/plain": [
       "       Post ID  Schedule Priority    Days Applied From Time   To Time  \\\n",
       "885  201-02010                  2  Mo,Tu,We,Th,Fr  12:00 PM   3:00 PM   \n",
       "886  201-02010                  3  Mo,Tu,We,Th,Fr   3:00 PM   6:00 PM   \n",
       "887  201-02010                  4  Mo,Tu,We,Th,Fr   7:00 AM  12:00 PM   \n",
       "889  201-02030                  2  Mo,Tu,We,Th,Fr  12:00 PM   3:00 PM   \n",
       "890  201-02030                  3  Mo,Tu,We,Th,Fr   3:00 PM   6:00 PM   \n",
       "\n",
       "                 Rate Type  Rate  \n",
       "885  Override to Base Rate  3.50  \n",
       "886  Override to Base Rate  3.25  \n",
       "887  Override to Base Rate  2.75  \n",
       "889  Override to Base Rate  3.50  \n",
       "890  Override to Base Rate  3.25  "
      ]
     },
     "execution_count": 13,
     "metadata": {},
     "output_type": "execute_result"
    }
   ],
   "source": [
    "Meter_Rate_Schedules[Meter_Rate_Schedules['From Time'].notnull()].head(5)"
   ]
  },
  {
   "cell_type": "code",
   "execution_count": 8,
   "metadata": {
    "ExecuteTime": {
     "end_time": "2019-01-16T20:14:23.082512Z",
     "start_time": "2019-01-16T20:14:23.048159Z"
    }
   },
   "outputs": [
    {
     "name": "stdout",
     "output_type": "stream",
     "text": [
      "<class 'pandas.core.frame.DataFrame'>\n",
      "RangeIndex: 60485 entries, 0 to 60484\n",
      "Data columns (total 7 columns):\n",
      "Post ID              60485 non-null object\n",
      "Schedule Priority    60485 non-null int64\n",
      "Days Applied         31106 non-null object\n",
      "From Time            31106 non-null object\n",
      "To Time              31106 non-null object\n",
      "Rate Type            60485 non-null object\n",
      "Rate                 60485 non-null float64\n",
      "dtypes: float64(1), int64(1), object(5)\n",
      "memory usage: 3.2+ MB\n"
     ]
    }
   ],
   "source": [
    "Meter_Rate_Schedules.info()"
   ]
  },
  {
   "cell_type": "code",
   "execution_count": 5,
   "metadata": {
    "ExecuteTime": {
     "end_time": "2019-01-16T20:13:43.199335Z",
     "start_time": "2019-01-16T20:13:43.164027Z"
    }
   },
   "outputs": [
    {
     "data": {
      "text/plain": [
       "924"
      ]
     },
     "execution_count": 5,
     "metadata": {},
     "output_type": "execute_result"
    }
   ],
   "source": [
    "Parking_meters['OSP_ID'].max()"
   ]
  },
  {
   "cell_type": "code",
   "execution_count": 6,
   "metadata": {
    "ExecuteTime": {
     "end_time": "2019-01-16T20:13:57.574893Z",
     "start_time": "2019-01-16T20:13:57.545669Z"
    }
   },
   "outputs": [
    {
     "data": {
      "text/plain": [
       "0"
      ]
     },
     "execution_count": 6,
     "metadata": {},
     "output_type": "execute_result"
    }
   ],
   "source": [
    "Parking_meters['OSP_ID'].min()"
   ]
  },
  {
   "cell_type": "code",
   "execution_count": null,
   "metadata": {},
   "outputs": [],
   "source": []
  }
 ],
 "metadata": {
  "kernelspec": {
   "display_name": "Python 3",
   "language": "python",
   "name": "python3"
  },
  "language_info": {
   "codemirror_mode": {
    "name": "ipython",
    "version": 3
   },
   "file_extension": ".py",
   "mimetype": "text/x-python",
   "name": "python",
   "nbconvert_exporter": "python",
   "pygments_lexer": "ipython3",
   "version": "3.6.7"
  },
  "toc": {
   "base_numbering": 1,
   "nav_menu": {},
   "number_sections": true,
   "sideBar": true,
   "skip_h1_title": false,
   "title_cell": "Table of Contents",
   "title_sidebar": "Contents",
   "toc_cell": false,
   "toc_position": {},
   "toc_section_display": true,
   "toc_window_display": false
  },
  "varInspector": {
   "cols": {
    "lenName": 16,
    "lenType": 16,
    "lenVar": 40
   },
   "kernels_config": {
    "python": {
     "delete_cmd_postfix": "",
     "delete_cmd_prefix": "del ",
     "library": "var_list.py",
     "varRefreshCmd": "print(var_dic_list())"
    },
    "r": {
     "delete_cmd_postfix": ") ",
     "delete_cmd_prefix": "rm(",
     "library": "var_list.r",
     "varRefreshCmd": "cat(var_dic_list()) "
    }
   },
   "types_to_exclude": [
    "module",
    "function",
    "builtin_function_or_method",
    "instance",
    "_Feature"
   ],
   "window_display": false
  }
 },
 "nbformat": 4,
 "nbformat_minor": 2
}
