{
 "cells": [
  {
   "cell_type": "code",
   "execution_count": 1,
   "metadata": {
    "ExecuteTime": {
     "end_time": "2019-01-16T20:08:27.424085Z",
     "start_time": "2019-01-16T20:08:26.866809Z"
    }
   },
   "outputs": [],
   "source": [
    "import pandas as pd"
   ]
  },
  {
   "cell_type": "code",
   "execution_count": 2,
   "metadata": {
    "ExecuteTime": {
     "end_time": "2019-01-16T20:08:27.523422Z",
     "start_time": "2019-01-16T20:08:27.432711Z"
    }
   },
   "outputs": [],
   "source": [
    "Meter_Rate_Schedules = pd.read_csv(\"Meter_Rate_Schedules.csv\")"
   ]
  },
  {
   "cell_type": "code",
   "execution_count": 3,
   "metadata": {
    "ExecuteTime": {
     "end_time": "2019-01-16T20:08:27.637116Z",
     "start_time": "2019-01-16T20:08:27.545561Z"
    }
   },
   "outputs": [],
   "source": [
    "Parking_meters = pd.read_csv(\"Parking_meters.csv\")"
   ]
  },
  {
   "cell_type": "code",
   "execution_count": 68,
   "metadata": {
    "ExecuteTime": {
     "end_time": "2019-01-16T23:46:34.358081Z",
     "start_time": "2019-01-16T23:46:34.334403Z"
    }
   },
   "outputs": [
    {
     "data": {
      "text/plain": [
       "28997"
      ]
     },
     "execution_count": 68,
     "metadata": {},
     "output_type": "execute_result"
    }
   ],
   "source": [
    "len(Parking_meters)"
   ]
  },
  {
   "cell_type": "code",
   "execution_count": 4,
   "metadata": {
    "ExecuteTime": {
     "end_time": "2019-01-16T20:14:25.613096Z",
     "start_time": "2019-01-16T20:08:27.674368Z"
    }
   },
   "outputs": [],
   "source": [
    "sfmta = pd.read_csv(\"SFMTA_Parking_Meter_Detailed_Revenue_Transactions.csv\")"
   ]
  },
  {
   "cell_type": "code",
   "execution_count": 5,
   "metadata": {
    "ExecuteTime": {
     "end_time": "2019-01-16T20:14:25.811932Z",
     "start_time": "2019-01-16T20:14:25.778292Z"
    }
   },
   "outputs": [
    {
     "data": {
      "text/html": [
       "<div>\n",
       "<style scoped>\n",
       "    .dataframe tbody tr th:only-of-type {\n",
       "        vertical-align: middle;\n",
       "    }\n",
       "\n",
       "    .dataframe tbody tr th {\n",
       "        vertical-align: top;\n",
       "    }\n",
       "\n",
       "    .dataframe thead th {\n",
       "        text-align: right;\n",
       "    }\n",
       "</style>\n",
       "<table border=\"1\" class=\"dataframe\">\n",
       "  <thead>\n",
       "    <tr style=\"text-align: right;\">\n",
       "      <th></th>\n",
       "      <th>Post ID</th>\n",
       "      <th>Schedule Priority</th>\n",
       "      <th>Days Applied</th>\n",
       "      <th>From Time</th>\n",
       "      <th>To Time</th>\n",
       "      <th>Rate Type</th>\n",
       "      <th>Rate</th>\n",
       "    </tr>\n",
       "  </thead>\n",
       "  <tbody>\n",
       "    <tr>\n",
       "      <th>0</th>\n",
       "      <td>102-02990</td>\n",
       "      <td>1</td>\n",
       "      <td>NaN</td>\n",
       "      <td>NaN</td>\n",
       "      <td>NaN</td>\n",
       "      <td>Base Rate</td>\n",
       "      <td>2.0</td>\n",
       "    </tr>\n",
       "    <tr>\n",
       "      <th>1</th>\n",
       "      <td>102-03890</td>\n",
       "      <td>1</td>\n",
       "      <td>NaN</td>\n",
       "      <td>NaN</td>\n",
       "      <td>NaN</td>\n",
       "      <td>Base Rate</td>\n",
       "      <td>2.0</td>\n",
       "    </tr>\n",
       "    <tr>\n",
       "      <th>2</th>\n",
       "      <td>102-03900</td>\n",
       "      <td>1</td>\n",
       "      <td>NaN</td>\n",
       "      <td>NaN</td>\n",
       "      <td>NaN</td>\n",
       "      <td>Base Rate</td>\n",
       "      <td>2.0</td>\n",
       "    </tr>\n",
       "    <tr>\n",
       "      <th>3</th>\n",
       "      <td>102-03910</td>\n",
       "      <td>1</td>\n",
       "      <td>NaN</td>\n",
       "      <td>NaN</td>\n",
       "      <td>NaN</td>\n",
       "      <td>Base Rate</td>\n",
       "      <td>2.0</td>\n",
       "    </tr>\n",
       "    <tr>\n",
       "      <th>4</th>\n",
       "      <td>102-03920</td>\n",
       "      <td>1</td>\n",
       "      <td>NaN</td>\n",
       "      <td>NaN</td>\n",
       "      <td>NaN</td>\n",
       "      <td>Base Rate</td>\n",
       "      <td>2.0</td>\n",
       "    </tr>\n",
       "  </tbody>\n",
       "</table>\n",
       "</div>"
      ],
      "text/plain": [
       "     Post ID  Schedule Priority Days Applied From Time To Time  Rate Type  \\\n",
       "0  102-02990                  1          NaN       NaN     NaN  Base Rate   \n",
       "1  102-03890                  1          NaN       NaN     NaN  Base Rate   \n",
       "2  102-03900                  1          NaN       NaN     NaN  Base Rate   \n",
       "3  102-03910                  1          NaN       NaN     NaN  Base Rate   \n",
       "4  102-03920                  1          NaN       NaN     NaN  Base Rate   \n",
       "\n",
       "   Rate  \n",
       "0   2.0  \n",
       "1   2.0  \n",
       "2   2.0  \n",
       "3   2.0  \n",
       "4   2.0  "
      ]
     },
     "execution_count": 5,
     "metadata": {},
     "output_type": "execute_result"
    }
   ],
   "source": [
    "Meter_Rate_Schedules.head(5)"
   ]
  },
  {
   "cell_type": "code",
   "execution_count": 6,
   "metadata": {
    "ExecuteTime": {
     "end_time": "2019-01-16T20:14:25.867100Z",
     "start_time": "2019-01-16T20:14:25.852110Z"
    }
   },
   "outputs": [
    {
     "data": {
      "text/html": [
       "<div>\n",
       "<style scoped>\n",
       "    .dataframe tbody tr th:only-of-type {\n",
       "        vertical-align: middle;\n",
       "    }\n",
       "\n",
       "    .dataframe tbody tr th {\n",
       "        vertical-align: top;\n",
       "    }\n",
       "\n",
       "    .dataframe thead th {\n",
       "        text-align: right;\n",
       "    }\n",
       "</style>\n",
       "<table border=\"1\" class=\"dataframe\">\n",
       "  <thead>\n",
       "    <tr style=\"text-align: right;\">\n",
       "      <th></th>\n",
       "      <th>POST_ID</th>\n",
       "      <th>MS_ID</th>\n",
       "      <th>MS_SPACEID</th>\n",
       "      <th>CAP_COLOR</th>\n",
       "      <th>METER_TYPE</th>\n",
       "      <th>SMART_METE</th>\n",
       "      <th>ACTIVESENS</th>\n",
       "      <th>JURISDICTI</th>\n",
       "      <th>ON_OFF_STR</th>\n",
       "      <th>OSP_ID</th>\n",
       "      <th>STREET_NUM</th>\n",
       "      <th>STREETNAME</th>\n",
       "      <th>STREET_SEG</th>\n",
       "      <th>RATEAREA</th>\n",
       "      <th>SFPARKAREA</th>\n",
       "      <th>LOCATION</th>\n",
       "    </tr>\n",
       "  </thead>\n",
       "  <tbody>\n",
       "    <tr>\n",
       "      <th>0</th>\n",
       "      <td>401-06340</td>\n",
       "      <td>-</td>\n",
       "      <td>0</td>\n",
       "      <td>Grey</td>\n",
       "      <td>SS</td>\n",
       "      <td>N</td>\n",
       "      <td>N</td>\n",
       "      <td>SFMTA</td>\n",
       "      <td>ON</td>\n",
       "      <td>0</td>\n",
       "      <td>634</td>\n",
       "      <td>ELLIS ST</td>\n",
       "      <td>5177000</td>\n",
       "      <td>Area 3</td>\n",
       "      <td></td>\n",
       "      <td>(37.78436, -122.41724)</td>\n",
       "    </tr>\n",
       "    <tr>\n",
       "      <th>1</th>\n",
       "      <td>104-03190</td>\n",
       "      <td>-</td>\n",
       "      <td>0</td>\n",
       "      <td>Grey</td>\n",
       "      <td>SS</td>\n",
       "      <td>N</td>\n",
       "      <td>Y</td>\n",
       "      <td>SFMTA</td>\n",
       "      <td>ON</td>\n",
       "      <td>0</td>\n",
       "      <td>319</td>\n",
       "      <td>04TH AVE</td>\n",
       "      <td>241000</td>\n",
       "      <td>Area 3</td>\n",
       "      <td></td>\n",
       "      <td>(37.78263, -122.46232)</td>\n",
       "    </tr>\n",
       "    <tr>\n",
       "      <th>2</th>\n",
       "      <td>352-04350</td>\n",
       "      <td>-</td>\n",
       "      <td>0</td>\n",
       "      <td>Grey</td>\n",
       "      <td>SS</td>\n",
       "      <td>N</td>\n",
       "      <td>N</td>\n",
       "      <td>SFMTA</td>\n",
       "      <td>ON</td>\n",
       "      <td>0</td>\n",
       "      <td>435</td>\n",
       "      <td>CASTRO ST</td>\n",
       "      <td>3790000</td>\n",
       "      <td>Area 3</td>\n",
       "      <td></td>\n",
       "      <td>(37.7614, -122.43495)</td>\n",
       "    </tr>\n",
       "    <tr>\n",
       "      <th>3</th>\n",
       "      <td>116-03980</td>\n",
       "      <td>-</td>\n",
       "      <td>0</td>\n",
       "      <td>Grey</td>\n",
       "      <td>SS</td>\n",
       "      <td>N</td>\n",
       "      <td>N</td>\n",
       "      <td>SFMTA</td>\n",
       "      <td>ON</td>\n",
       "      <td>0</td>\n",
       "      <td>398</td>\n",
       "      <td>16TH AVE</td>\n",
       "      <td>672000</td>\n",
       "      <td>Area 3</td>\n",
       "      <td></td>\n",
       "      <td>(37.7808, -122.47505)</td>\n",
       "    </tr>\n",
       "    <tr>\n",
       "      <th>4</th>\n",
       "      <td>224-27570</td>\n",
       "      <td>-</td>\n",
       "      <td>0</td>\n",
       "      <td>Grey</td>\n",
       "      <td>SS</td>\n",
       "      <td>N</td>\n",
       "      <td>N</td>\n",
       "      <td>SFMTA</td>\n",
       "      <td>ON</td>\n",
       "      <td>0</td>\n",
       "      <td>2757</td>\n",
       "      <td>24TH ST</td>\n",
       "      <td>1331000</td>\n",
       "      <td>Area 3</td>\n",
       "      <td></td>\n",
       "      <td>(37.75283, -122.40763)</td>\n",
       "    </tr>\n",
       "  </tbody>\n",
       "</table>\n",
       "</div>"
      ],
      "text/plain": [
       "     POST_ID MS_ID  MS_SPACEID CAP_COLOR METER_TYPE SMART_METE ACTIVESENS  \\\n",
       "0  401-06340     -           0      Grey         SS          N          N   \n",
       "1  104-03190     -           0      Grey         SS          N          Y   \n",
       "2  352-04350     -           0      Grey         SS          N          N   \n",
       "3  116-03980     -           0      Grey         SS          N          N   \n",
       "4  224-27570     -           0      Grey         SS          N          N   \n",
       "\n",
       "  JURISDICTI ON_OFF_STR  OSP_ID  STREET_NUM STREETNAME  STREET_SEG RATEAREA  \\\n",
       "0      SFMTA         ON       0         634   ELLIS ST     5177000   Area 3   \n",
       "1      SFMTA         ON       0         319   04TH AVE      241000   Area 3   \n",
       "2      SFMTA         ON       0         435  CASTRO ST     3790000   Area 3   \n",
       "3      SFMTA         ON       0         398   16TH AVE      672000   Area 3   \n",
       "4      SFMTA         ON       0        2757    24TH ST     1331000   Area 3   \n",
       "\n",
       "  SFPARKAREA                LOCATION  \n",
       "0             (37.78436, -122.41724)  \n",
       "1             (37.78263, -122.46232)  \n",
       "2              (37.7614, -122.43495)  \n",
       "3              (37.7808, -122.47505)  \n",
       "4             (37.75283, -122.40763)  "
      ]
     },
     "execution_count": 6,
     "metadata": {},
     "output_type": "execute_result"
    }
   ],
   "source": [
    "Parking_meters.head(5)"
   ]
  },
  {
   "cell_type": "code",
   "execution_count": 7,
   "metadata": {
    "ExecuteTime": {
     "end_time": "2019-01-16T20:14:25.927131Z",
     "start_time": "2019-01-16T20:14:25.914973Z"
    }
   },
   "outputs": [
    {
     "data": {
      "text/html": [
       "<div>\n",
       "<style scoped>\n",
       "    .dataframe tbody tr th:only-of-type {\n",
       "        vertical-align: middle;\n",
       "    }\n",
       "\n",
       "    .dataframe tbody tr th {\n",
       "        vertical-align: top;\n",
       "    }\n",
       "\n",
       "    .dataframe thead th {\n",
       "        text-align: right;\n",
       "    }\n",
       "</style>\n",
       "<table border=\"1\" class=\"dataframe\">\n",
       "  <thead>\n",
       "    <tr style=\"text-align: right;\">\n",
       "      <th></th>\n",
       "      <th>POST_ID</th>\n",
       "      <th>STREET_BLOCK</th>\n",
       "      <th>PAYMENT_TYPE</th>\n",
       "      <th>SESSION_START_DT</th>\n",
       "      <th>SESSION_END_DT</th>\n",
       "      <th>METER_EVENT_TYPE</th>\n",
       "      <th>GROSS_PAID_AMT</th>\n",
       "    </tr>\n",
       "  </thead>\n",
       "  <tbody>\n",
       "    <tr>\n",
       "      <th>0</th>\n",
       "      <td>720-18030</td>\n",
       "      <td>WASHINGTON ST 1800</td>\n",
       "      <td>CASH</td>\n",
       "      <td>10-AUG-17 02.00.53 PM</td>\n",
       "      <td>10-AUG-17 02.35.47 PM</td>\n",
       "      <td>AT</td>\n",
       "      <td>1.05</td>\n",
       "    </tr>\n",
       "    <tr>\n",
       "      <th>1</th>\n",
       "      <td>568-22390</td>\n",
       "      <td>MISSION ST 2200</td>\n",
       "      <td>CASH</td>\n",
       "      <td>02-MAR-18 10.05.46 AM</td>\n",
       "      <td>02-MAR-18 10.17.46 AM</td>\n",
       "      <td>NS</td>\n",
       "      <td>0.35</td>\n",
       "    </tr>\n",
       "    <tr>\n",
       "      <th>2</th>\n",
       "      <td>224-40500</td>\n",
       "      <td>24TH ST 4000</td>\n",
       "      <td>CASH</td>\n",
       "      <td>08-MAR-17 10.53.13 AM</td>\n",
       "      <td>08-MAR-17 11.06.33 AM</td>\n",
       "      <td>NS</td>\n",
       "      <td>0.50</td>\n",
       "    </tr>\n",
       "    <tr>\n",
       "      <th>3</th>\n",
       "      <td>419-04070</td>\n",
       "      <td>FRANKLIN ST 400</td>\n",
       "      <td>CREDIT CARD</td>\n",
       "      <td>01-JUL-16 08.15.49 AM</td>\n",
       "      <td>01-JUL-16 01.00.00 PM</td>\n",
       "      <td>NS</td>\n",
       "      <td>4.50</td>\n",
       "    </tr>\n",
       "    <tr>\n",
       "      <th>4</th>\n",
       "      <td>658-01060</td>\n",
       "      <td>SPEAR ST 100</td>\n",
       "      <td>CREDIT CARD</td>\n",
       "      <td>05-JUN-17 02.40.56 PM</td>\n",
       "      <td>05-JUN-17 03.00.00 PM</td>\n",
       "      <td>NS</td>\n",
       "      <td>1.20</td>\n",
       "    </tr>\n",
       "  </tbody>\n",
       "</table>\n",
       "</div>"
      ],
      "text/plain": [
       "     POST_ID        STREET_BLOCK PAYMENT_TYPE       SESSION_START_DT  \\\n",
       "0  720-18030  WASHINGTON ST 1800         CASH  10-AUG-17 02.00.53 PM   \n",
       "1  568-22390     MISSION ST 2200         CASH  02-MAR-18 10.05.46 AM   \n",
       "2  224-40500        24TH ST 4000         CASH  08-MAR-17 10.53.13 AM   \n",
       "3  419-04070     FRANKLIN ST 400  CREDIT CARD  01-JUL-16 08.15.49 AM   \n",
       "4  658-01060        SPEAR ST 100  CREDIT CARD  05-JUN-17 02.40.56 PM   \n",
       "\n",
       "          SESSION_END_DT METER_EVENT_TYPE  GROSS_PAID_AMT  \n",
       "0  10-AUG-17 02.35.47 PM               AT            1.05  \n",
       "1  02-MAR-18 10.17.46 AM               NS            0.35  \n",
       "2  08-MAR-17 11.06.33 AM               NS            0.50  \n",
       "3  01-JUL-16 01.00.00 PM               NS            4.50  \n",
       "4  05-JUN-17 03.00.00 PM               NS            1.20  "
      ]
     },
     "execution_count": 7,
     "metadata": {},
     "output_type": "execute_result"
    }
   ],
   "source": [
    "sfmta.head()"
   ]
  },
  {
   "cell_type": "code",
   "execution_count": 8,
   "metadata": {
    "ExecuteTime": {
     "end_time": "2019-01-16T20:14:25.976957Z",
     "start_time": "2019-01-16T20:14:25.971375Z"
    }
   },
   "outputs": [
    {
     "name": "stdout",
     "output_type": "stream",
     "text": [
      "<class 'pandas.core.frame.DataFrame'>\n",
      "RangeIndex: 92986498 entries, 0 to 92986497\n",
      "Data columns (total 7 columns):\n",
      "POST_ID             object\n",
      "STREET_BLOCK        object\n",
      "PAYMENT_TYPE        object\n",
      "SESSION_START_DT    object\n",
      "SESSION_END_DT      object\n",
      "METER_EVENT_TYPE    object\n",
      "GROSS_PAID_AMT      float64\n",
      "dtypes: float64(1), object(6)\n",
      "memory usage: 4.8+ GB\n"
     ]
    }
   ],
   "source": [
    "sfmta.info()"
   ]
  },
  {
   "cell_type": "code",
   "execution_count": 9,
   "metadata": {
    "ExecuteTime": {
     "end_time": "2019-01-16T20:16:27.778171Z",
     "start_time": "2019-01-16T20:16:06.134966Z"
    }
   },
   "outputs": [
    {
     "data": {
      "text/plain": [
       "'31-OCT-18 12.59.59 PM'"
      ]
     },
     "execution_count": 9,
     "metadata": {},
     "output_type": "execute_result"
    }
   ],
   "source": [
    "sfmta['SESSION_START_DT'].max()"
   ]
  },
  {
   "cell_type": "code",
   "execution_count": 10,
   "metadata": {
    "ExecuteTime": {
     "end_time": "2019-01-16T20:16:36.345935Z",
     "start_time": "2019-01-16T20:16:27.879372Z"
    }
   },
   "outputs": [
    {
     "data": {
      "text/plain": [
       "'01-APR-17 01.00.00 PM'"
      ]
     },
     "execution_count": 10,
     "metadata": {},
     "output_type": "execute_result"
    }
   ],
   "source": [
    "sfmta['SESSION_START_DT'].min()"
   ]
  },
  {
   "cell_type": "code",
   "execution_count": 12,
   "metadata": {
    "ExecuteTime": {
     "end_time": "2019-01-16T20:23:23.031194Z",
     "start_time": "2019-01-16T20:23:23.016328Z"
    }
   },
   "outputs": [
    {
     "data": {
      "text/plain": [
       "datetime.datetime(2018, 10, 31, 12, 59, 59)"
      ]
     },
     "execution_count": 12,
     "metadata": {},
     "output_type": "execute_result"
    }
   ],
   "source": [
    "from datetime import datetime\n",
    "\n",
    "datetime_object = datetime.strptime('Jun 1 2005  1:33PM', '%b %d %Y %I:%M%p')\n",
    "datetime_object = datetime.strptime('31-OCT-18 12.59.59 PM', '%d-%b-%y %I.%M.%S %p')\n",
    "datetime_object"
   ]
  },
  {
   "cell_type": "code",
   "execution_count": 13,
   "metadata": {
    "ExecuteTime": {
     "end_time": "2019-01-16T20:24:11.104144Z",
     "start_time": "2019-01-16T20:24:11.094396Z"
    }
   },
   "outputs": [
    {
     "ename": "TypeError",
     "evalue": "strptime() argument 1 must be str, not Series",
     "output_type": "error",
     "traceback": [
      "\u001b[0;31m---------------------------------------------------------------------------\u001b[0m",
      "\u001b[0;31mTypeError\u001b[0m                                 Traceback (most recent call last)",
      "\u001b[0;32m<ipython-input-13-15e1be990026>\u001b[0m in \u001b[0;36m<module>\u001b[0;34m\u001b[0m\n\u001b[0;32m----> 1\u001b[0;31m \u001b[0msfmta\u001b[0m\u001b[0;34m[\u001b[0m\u001b[0;34m'SESSION_START_DT'\u001b[0m\u001b[0;34m]\u001b[0m \u001b[0;34m=\u001b[0m \u001b[0mdatetime\u001b[0m\u001b[0;34m.\u001b[0m\u001b[0mstrptime\u001b[0m\u001b[0;34m(\u001b[0m\u001b[0msfmta\u001b[0m\u001b[0;34m[\u001b[0m\u001b[0;34m'SESSION_START_DT'\u001b[0m\u001b[0;34m]\u001b[0m\u001b[0;34m,\u001b[0m \u001b[0;34m'%d-%b-%y %I.%M.%S %p'\u001b[0m\u001b[0;34m)\u001b[0m\u001b[0;34m\u001b[0m\u001b[0;34m\u001b[0m\u001b[0m\n\u001b[0m",
      "\u001b[0;31mTypeError\u001b[0m: strptime() argument 1 must be str, not Series"
     ]
    }
   ],
   "source": [
    "sfmta['SESSION_START_DT'] = datetime.strptime(sfmta['SESSION_START_DT'], '%d-%b-%y %I.%M.%S %p')"
   ]
  },
  {
   "cell_type": "code",
   "execution_count": 14,
   "metadata": {
    "ExecuteTime": {
     "end_time": "2019-01-16T20:44:58.798258Z",
     "start_time": "2019-01-16T20:27:05.702622Z"
    }
   },
   "outputs": [
    {
     "data": {
      "text/plain": [
       "0   2017-08-10 14:00:53\n",
       "1   2018-03-02 10:05:46\n",
       "2   2017-03-08 10:53:13\n",
       "3   2016-07-01 08:15:49\n",
       "4   2017-06-05 14:40:56\n",
       "Name: SESSION_START_DT, dtype: datetime64[ns]"
      ]
     },
     "execution_count": 14,
     "metadata": {},
     "output_type": "execute_result"
    }
   ],
   "source": [
    "date_series = sfmta['SESSION_START_DT'].apply(datetime.strptime, args=('%d-%b-%y %I.%M.%S %p',))\n",
    "date_series.head(5)"
   ]
  },
  {
   "cell_type": "code",
   "execution_count": 16,
   "metadata": {
    "ExecuteTime": {
     "end_time": "2019-01-16T20:48:14.073947Z",
     "start_time": "2019-01-16T20:48:13.324608Z"
    }
   },
   "outputs": [
    {
     "data": {
      "text/plain": [
       "Timestamp('2018-12-31 23:58:26')"
      ]
     },
     "execution_count": 16,
     "metadata": {},
     "output_type": "execute_result"
    }
   ],
   "source": [
    "date_series.max()"
   ]
  },
  {
   "cell_type": "code",
   "execution_count": 17,
   "metadata": {
    "ExecuteTime": {
     "end_time": "2019-01-16T20:48:21.748407Z",
     "start_time": "2019-01-16T20:48:21.271542Z"
    }
   },
   "outputs": [
    {
     "data": {
      "text/plain": [
       "Timestamp('2016-07-01 04:33:01')"
      ]
     },
     "execution_count": 17,
     "metadata": {},
     "output_type": "execute_result"
    }
   ],
   "source": [
    "date_series.min()"
   ]
  },
  {
   "cell_type": "code",
   "execution_count": 18,
   "metadata": {
    "ExecuteTime": {
     "end_time": "2019-01-16T20:50:48.493127Z",
     "start_time": "2019-01-16T20:50:48.489154Z"
    }
   },
   "outputs": [
    {
     "data": {
      "text/plain": [
       "92986498"
      ]
     },
     "execution_count": 18,
     "metadata": {},
     "output_type": "execute_result"
    }
   ],
   "source": [
    "len(date_series)"
   ]
  },
  {
   "cell_type": "code",
   "execution_count": 19,
   "metadata": {
    "ExecuteTime": {
     "end_time": "2019-01-16T20:50:59.435771Z",
     "start_time": "2019-01-16T20:50:59.431810Z"
    }
   },
   "outputs": [
    {
     "data": {
      "text/plain": [
       "92986498"
      ]
     },
     "execution_count": 19,
     "metadata": {},
     "output_type": "execute_result"
    }
   ],
   "source": [
    "len(sfmta)"
   ]
  },
  {
   "cell_type": "code",
   "execution_count": 20,
   "metadata": {
    "ExecuteTime": {
     "end_time": "2019-01-16T20:52:03.913792Z",
     "start_time": "2019-01-16T20:52:03.012378Z"
    }
   },
   "outputs": [
    {
     "data": {
      "text/plain": [
       "Timestamp('2017-08-10 14:00:53')"
      ]
     },
     "execution_count": 20,
     "metadata": {},
     "output_type": "execute_result"
    }
   ],
   "source": [
    "date_series[0]"
   ]
  },
  {
   "cell_type": "code",
   "execution_count": 69,
   "metadata": {
    "ExecuteTime": {
     "end_time": "2019-01-17T00:21:38.066024Z",
     "start_time": "2019-01-17T00:21:38.058145Z"
    }
   },
   "outputs": [],
   "source": [
    "start_date = datetime.strptime('01-Oct-18 12.00.00 AM', '%d-%b-%y %I.%M.%S %p')\n",
    "end_date = datetime.strptime('31-Oct-18 11.59.59 PM', '%d-%b-%y %I.%M.%S %p')"
   ]
  },
  {
   "cell_type": "code",
   "execution_count": 70,
   "metadata": {
    "ExecuteTime": {
     "end_time": "2019-01-17T00:21:41.047904Z",
     "start_time": "2019-01-17T00:21:41.034090Z"
    }
   },
   "outputs": [
    {
     "data": {
      "text/plain": [
       "False"
      ]
     },
     "execution_count": 70,
     "metadata": {},
     "output_type": "execute_result"
    }
   ],
   "source": [
    "date_series[0] > start_date"
   ]
  },
  {
   "cell_type": "code",
   "execution_count": 71,
   "metadata": {
    "ExecuteTime": {
     "end_time": "2019-01-17T00:30:59.465842Z",
     "start_time": "2019-01-17T00:21:43.893122Z"
    }
   },
   "outputs": [],
   "source": [
    "def desired_date(time):\n",
    "    if time > start_date and time < end_date:\n",
    "        return True\n",
    "    else:\n",
    "        return False\n",
    "result = [desired_date(i) for i in date_series]"
   ]
  },
  {
   "cell_type": "code",
   "execution_count": 72,
   "metadata": {
    "ExecuteTime": {
     "end_time": "2019-01-17T00:31:02.782348Z",
     "start_time": "2019-01-17T00:31:02.760875Z"
    }
   },
   "outputs": [
    {
     "data": {
      "text/plain": [
       "92986498"
      ]
     },
     "execution_count": 72,
     "metadata": {},
     "output_type": "execute_result"
    }
   ],
   "source": [
    "len(result)"
   ]
  },
  {
   "cell_type": "code",
   "execution_count": 73,
   "metadata": {
    "ExecuteTime": {
     "end_time": "2019-01-17T00:31:45.612905Z",
     "start_time": "2019-01-17T00:31:05.440636Z"
    }
   },
   "outputs": [],
   "source": [
    "enddf = sfmta[result]"
   ]
  },
  {
   "cell_type": "code",
   "execution_count": 74,
   "metadata": {
    "ExecuteTime": {
     "end_time": "2019-01-17T00:31:49.634337Z",
     "start_time": "2019-01-17T00:31:49.631076Z"
    }
   },
   "outputs": [],
   "source": [
    "# enddf.to_csv(index=False)"
   ]
  },
  {
   "cell_type": "code",
   "execution_count": 75,
   "metadata": {
    "ExecuteTime": {
     "end_time": "2019-01-17T00:32:02.769788Z",
     "start_time": "2019-01-17T00:31:52.388195Z"
    }
   },
   "outputs": [],
   "source": [
    "enddf.to_csv(path_or_buf=\"/Users/ziyuanhan/Desktop/distri_project/output.csv\", index=False)"
   ]
  },
  {
   "cell_type": "code",
   "execution_count": 78,
   "metadata": {
    "ExecuteTime": {
     "end_time": "2019-01-17T00:45:52.143168Z",
     "start_time": "2019-01-17T00:45:50.704302Z"
    }
   },
   "outputs": [
    {
     "data": {
      "text/html": [
       "<div>\n",
       "<style scoped>\n",
       "    .dataframe tbody tr th:only-of-type {\n",
       "        vertical-align: middle;\n",
       "    }\n",
       "\n",
       "    .dataframe tbody tr th {\n",
       "        vertical-align: top;\n",
       "    }\n",
       "\n",
       "    .dataframe thead th {\n",
       "        text-align: right;\n",
       "    }\n",
       "</style>\n",
       "<table border=\"1\" class=\"dataframe\">\n",
       "  <thead>\n",
       "    <tr style=\"text-align: right;\">\n",
       "      <th></th>\n",
       "      <th>POST_ID</th>\n",
       "      <th>STREET_BLOCK</th>\n",
       "      <th>PAYMENT_TYPE</th>\n",
       "      <th>SESSION_START_DT</th>\n",
       "      <th>SESSION_END_DT</th>\n",
       "      <th>METER_EVENT_TYPE</th>\n",
       "      <th>GROSS_PAID_AMT</th>\n",
       "    </tr>\n",
       "  </thead>\n",
       "  <tbody>\n",
       "    <tr>\n",
       "      <th>15049881</th>\n",
       "      <td>720-05390</td>\n",
       "      <td>WASHINGTON ST 500</td>\n",
       "      <td>CREDIT CARD</td>\n",
       "      <td>04-OCT-18 08.32.01 AM</td>\n",
       "      <td>04-OCT-18 06.00.00 PM</td>\n",
       "      <td>NS</td>\n",
       "      <td>3.32</td>\n",
       "    </tr>\n",
       "    <tr>\n",
       "      <th>15050090</th>\n",
       "      <td>720-04430</td>\n",
       "      <td>WASHINGTON ST 400</td>\n",
       "      <td>CREDIT CARD</td>\n",
       "      <td>09-OCT-18 09.30.01 AM</td>\n",
       "      <td>09-OCT-18 01.30.00 PM</td>\n",
       "      <td>NS</td>\n",
       "      <td>17.63</td>\n",
       "    </tr>\n",
       "    <tr>\n",
       "      <th>15050263</th>\n",
       "      <td>720-06200</td>\n",
       "      <td>WASHINGTON ST 600</td>\n",
       "      <td>CREDIT CARD</td>\n",
       "      <td>03-OCT-18 12.15.18 PM</td>\n",
       "      <td>03-OCT-18 01.15.18 PM</td>\n",
       "      <td>NS</td>\n",
       "      <td>3.75</td>\n",
       "    </tr>\n",
       "    <tr>\n",
       "      <th>15050390</th>\n",
       "      <td>720-03433</td>\n",
       "      <td>WASHINGTON ST 300</td>\n",
       "      <td>CREDIT CARD</td>\n",
       "      <td>01-OCT-18 08.16.01 AM</td>\n",
       "      <td>01-OCT-18 01.00.00 PM</td>\n",
       "      <td>NS</td>\n",
       "      <td>1.40</td>\n",
       "    </tr>\n",
       "    <tr>\n",
       "      <th>15050491</th>\n",
       "      <td>720-05390</td>\n",
       "      <td>WASHINGTON ST 500</td>\n",
       "      <td>CREDIT CARD</td>\n",
       "      <td>22-OCT-18 06.56.01 AM</td>\n",
       "      <td>22-OCT-18 06.00.00 PM</td>\n",
       "      <td>NS</td>\n",
       "      <td>3.85</td>\n",
       "    </tr>\n",
       "    <tr>\n",
       "      <th>15050537</th>\n",
       "      <td>720-01040</td>\n",
       "      <td>WASHINGTON ST 100</td>\n",
       "      <td>CREDIT CARD</td>\n",
       "      <td>29-OCT-18 01.30.37 PM</td>\n",
       "      <td>29-OCT-18 03.30.37 PM</td>\n",
       "      <td>NS</td>\n",
       "      <td>12.50</td>\n",
       "    </tr>\n",
       "    <tr>\n",
       "      <th>15050565</th>\n",
       "      <td>720-16400</td>\n",
       "      <td>WASHINGTON ST 1600</td>\n",
       "      <td>CREDIT CARD</td>\n",
       "      <td>29-OCT-18 05.58.33 PM</td>\n",
       "      <td>29-OCT-18 06.00.00 PM</td>\n",
       "      <td>AT</td>\n",
       "      <td>0.25</td>\n",
       "    </tr>\n",
       "    <tr>\n",
       "      <th>15050590</th>\n",
       "      <td>720-02090</td>\n",
       "      <td>WASHINGTON ST 200</td>\n",
       "      <td>CASH</td>\n",
       "      <td>01-OCT-18 12.23.00 PM</td>\n",
       "      <td>01-OCT-18 01.18.41 PM</td>\n",
       "      <td>AT</td>\n",
       "      <td>3.30</td>\n",
       "    </tr>\n",
       "    <tr>\n",
       "      <th>15050857</th>\n",
       "      <td>720-01140</td>\n",
       "      <td>WASHINGTON ST 100</td>\n",
       "      <td>CREDIT CARD</td>\n",
       "      <td>18-OCT-18 11.29.30 AM</td>\n",
       "      <td>18-OCT-18 01.22.14 PM</td>\n",
       "      <td>AT</td>\n",
       "      <td>11.50</td>\n",
       "    </tr>\n",
       "    <tr>\n",
       "      <th>15050966</th>\n",
       "      <td>720-16510</td>\n",
       "      <td>WASHINGTON ST 1600</td>\n",
       "      <td>CREDIT CARD</td>\n",
       "      <td>26-OCT-18 12.15.38 PM</td>\n",
       "      <td>26-OCT-18 02.15.38 PM</td>\n",
       "      <td>NS</td>\n",
       "      <td>4.50</td>\n",
       "    </tr>\n",
       "    <tr>\n",
       "      <th>15051323</th>\n",
       "      <td>720-02240</td>\n",
       "      <td>WASHINGTON ST 200</td>\n",
       "      <td>PAY BY CELL</td>\n",
       "      <td>29-OCT-18 10.38.00 AM</td>\n",
       "      <td>29-OCT-18 11.08.00 AM</td>\n",
       "      <td>NS</td>\n",
       "      <td>1.50</td>\n",
       "    </tr>\n",
       "    <tr>\n",
       "      <th>15051464</th>\n",
       "      <td>720-16330</td>\n",
       "      <td>WASHINGTON ST 1600</td>\n",
       "      <td>CREDIT CARD</td>\n",
       "      <td>31-OCT-18 03.18.35 PM</td>\n",
       "      <td>31-OCT-18 05.18.12 PM</td>\n",
       "      <td>AT</td>\n",
       "      <td>4.27</td>\n",
       "    </tr>\n",
       "    <tr>\n",
       "      <th>15051877</th>\n",
       "      <td>720-03140</td>\n",
       "      <td>WASHINGTON ST 300</td>\n",
       "      <td>CREDIT CARD</td>\n",
       "      <td>18-OCT-18 09.42.01 AM</td>\n",
       "      <td>18-OCT-18 10.42.00 AM</td>\n",
       "      <td>NS</td>\n",
       "      <td>2.75</td>\n",
       "    </tr>\n",
       "    <tr>\n",
       "      <th>15052050</th>\n",
       "      <td>720-05630</td>\n",
       "      <td>WASHINGTON ST 500</td>\n",
       "      <td>PAY BY CELL</td>\n",
       "      <td>17-OCT-18 07.48.00 AM</td>\n",
       "      <td>17-OCT-18 06.00.00 PM</td>\n",
       "      <td>NS</td>\n",
       "      <td>3.57</td>\n",
       "    </tr>\n",
       "    <tr>\n",
       "      <th>15052090</th>\n",
       "      <td>720-16340</td>\n",
       "      <td>WASHINGTON ST 1600</td>\n",
       "      <td>SMART CARD</td>\n",
       "      <td>11-OCT-18 09.59.44 AM</td>\n",
       "      <td>11-OCT-18 10.59.44 AM</td>\n",
       "      <td>NS</td>\n",
       "      <td>2.00</td>\n",
       "    </tr>\n",
       "    <tr>\n",
       "      <th>15052246</th>\n",
       "      <td>720-05470</td>\n",
       "      <td>WASHINGTON ST 500</td>\n",
       "      <td>PAY BY CELL</td>\n",
       "      <td>24-OCT-18 08.23.00 AM</td>\n",
       "      <td>24-OCT-18 05.23.00 PM</td>\n",
       "      <td>NS</td>\n",
       "      <td>3.15</td>\n",
       "    </tr>\n",
       "    <tr>\n",
       "      <th>15052278</th>\n",
       "      <td>720-24360</td>\n",
       "      <td>WASHINGTON ST 2400</td>\n",
       "      <td>CASH</td>\n",
       "      <td>27-OCT-18 12.34.06 PM</td>\n",
       "      <td>27-OCT-18 12.58.38 PM</td>\n",
       "      <td>AT</td>\n",
       "      <td>0.25</td>\n",
       "    </tr>\n",
       "    <tr>\n",
       "      <th>15052448</th>\n",
       "      <td>720-00170</td>\n",
       "      <td>WASHINGTON ST 0</td>\n",
       "      <td>CREDIT CARD</td>\n",
       "      <td>26-OCT-18 03.01.35 PM</td>\n",
       "      <td>26-OCT-18 05.01.35 PM</td>\n",
       "      <td>NS</td>\n",
       "      <td>14.00</td>\n",
       "    </tr>\n",
       "    <tr>\n",
       "      <th>15052498</th>\n",
       "      <td>720-02080</td>\n",
       "      <td>WASHINGTON ST 200</td>\n",
       "      <td>SMART CARD</td>\n",
       "      <td>18-OCT-18 10.32.01 AM</td>\n",
       "      <td>18-OCT-18 11.02.00 AM</td>\n",
       "      <td>NS</td>\n",
       "      <td>1.50</td>\n",
       "    </tr>\n",
       "    <tr>\n",
       "      <th>15052589</th>\n",
       "      <td>720-05670</td>\n",
       "      <td>WASHINGTON ST 500</td>\n",
       "      <td>CREDIT CARD</td>\n",
       "      <td>03-OCT-18 10.15.01 AM</td>\n",
       "      <td>03-OCT-18 05.15.00 PM</td>\n",
       "      <td>NS</td>\n",
       "      <td>2.45</td>\n",
       "    </tr>\n",
       "    <tr>\n",
       "      <th>15052747</th>\n",
       "      <td>720-08440</td>\n",
       "      <td>WASHINGTON ST 800</td>\n",
       "      <td>CREDIT CARD</td>\n",
       "      <td>13-OCT-18 01.42.13 PM</td>\n",
       "      <td>13-OCT-18 02.12.13 PM</td>\n",
       "      <td>NS</td>\n",
       "      <td>1.63</td>\n",
       "    </tr>\n",
       "    <tr>\n",
       "      <th>15052828</th>\n",
       "      <td>720-00150</td>\n",
       "      <td>WASHINGTON ST 0</td>\n",
       "      <td>CASH</td>\n",
       "      <td>03-OCT-18 11.10.17 AM</td>\n",
       "      <td>03-OCT-18 12.21.30 PM</td>\n",
       "      <td>NS</td>\n",
       "      <td>0.25</td>\n",
       "    </tr>\n",
       "    <tr>\n",
       "      <th>15053711</th>\n",
       "      <td>720-17110</td>\n",
       "      <td>WASHINGTON ST 1700</td>\n",
       "      <td>CREDIT CARD</td>\n",
       "      <td>13-OCT-18 01.09.43 PM</td>\n",
       "      <td>13-OCT-18 01.59.27 PM</td>\n",
       "      <td>NS</td>\n",
       "      <td>1.75</td>\n",
       "    </tr>\n",
       "    <tr>\n",
       "      <th>15053730</th>\n",
       "      <td>720-04090</td>\n",
       "      <td>WASHINGTON ST 400</td>\n",
       "      <td>CREDIT CARD</td>\n",
       "      <td>05-OCT-18 11.34.01 AM</td>\n",
       "      <td>05-OCT-18 12.34.05 PM</td>\n",
       "      <td>NS</td>\n",
       "      <td>4.75</td>\n",
       "    </tr>\n",
       "    <tr>\n",
       "      <th>15053791</th>\n",
       "      <td>720-01240</td>\n",
       "      <td>WASHINGTON ST 100</td>\n",
       "      <td>CASH</td>\n",
       "      <td>03-OCT-18 03.49.19 PM</td>\n",
       "      <td>03-OCT-18 04.04.41 PM</td>\n",
       "      <td>NS</td>\n",
       "      <td>1.60</td>\n",
       "    </tr>\n",
       "    <tr>\n",
       "      <th>15054022</th>\n",
       "      <td>720-04270</td>\n",
       "      <td>WASHINGTON ST 400</td>\n",
       "      <td>CREDIT CARD</td>\n",
       "      <td>15-OCT-18 06.49.01 AM</td>\n",
       "      <td>15-OCT-18 09.00.00 AM</td>\n",
       "      <td>NS</td>\n",
       "      <td>7.50</td>\n",
       "    </tr>\n",
       "    <tr>\n",
       "      <th>15054034</th>\n",
       "      <td>720-16570</td>\n",
       "      <td>WASHINGTON ST 1600</td>\n",
       "      <td>PAY BY CELL</td>\n",
       "      <td>11-OCT-18 03.44.00 PM</td>\n",
       "      <td>11-OCT-18 05.44.00 PM</td>\n",
       "      <td>NS</td>\n",
       "      <td>4.50</td>\n",
       "    </tr>\n",
       "    <tr>\n",
       "      <th>15054370</th>\n",
       "      <td>720-08090</td>\n",
       "      <td>WASHINGTON ST 800</td>\n",
       "      <td>CREDIT CARD</td>\n",
       "      <td>24-OCT-18 09.52.40 AM</td>\n",
       "      <td>24-OCT-18 11.24.59 AM</td>\n",
       "      <td>NS</td>\n",
       "      <td>5.00</td>\n",
       "    </tr>\n",
       "    <tr>\n",
       "      <th>15054451</th>\n",
       "      <td>720-00150</td>\n",
       "      <td>WASHINGTON ST 0</td>\n",
       "      <td>CASH</td>\n",
       "      <td>24-OCT-18 01.34.50 PM</td>\n",
       "      <td>24-OCT-18 01.49.37 PM</td>\n",
       "      <td>NS</td>\n",
       "      <td>1.60</td>\n",
       "    </tr>\n",
       "    <tr>\n",
       "      <th>15054552</th>\n",
       "      <td>720-05600</td>\n",
       "      <td>WASHINGTON ST 500</td>\n",
       "      <td>CREDIT CARD</td>\n",
       "      <td>29-OCT-18 08.20.01 AM</td>\n",
       "      <td>29-OCT-18 06.00.00 PM</td>\n",
       "      <td>NS</td>\n",
       "      <td>3.39</td>\n",
       "    </tr>\n",
       "    <tr>\n",
       "      <th>...</th>\n",
       "      <td>...</td>\n",
       "      <td>...</td>\n",
       "      <td>...</td>\n",
       "      <td>...</td>\n",
       "      <td>...</td>\n",
       "      <td>...</td>\n",
       "      <td>...</td>\n",
       "    </tr>\n",
       "    <tr>\n",
       "      <th>17576066</th>\n",
       "      <td>720-00210</td>\n",
       "      <td>WASHINGTON ST 0</td>\n",
       "      <td>CREDIT CARD</td>\n",
       "      <td>31-OCT-18 04.56.22 PM</td>\n",
       "      <td>31-OCT-18 06.00.00 PM</td>\n",
       "      <td>NS</td>\n",
       "      <td>7.45</td>\n",
       "    </tr>\n",
       "    <tr>\n",
       "      <th>17576470</th>\n",
       "      <td>720-18170</td>\n",
       "      <td>WASHINGTON ST 1800</td>\n",
       "      <td>PAY BY CELL</td>\n",
       "      <td>29-OCT-18 03.22.00 PM</td>\n",
       "      <td>29-OCT-18 03.52.00 PM</td>\n",
       "      <td>AT</td>\n",
       "      <td>1.37</td>\n",
       "    </tr>\n",
       "    <tr>\n",
       "      <th>17576557</th>\n",
       "      <td>720-02170</td>\n",
       "      <td>WASHINGTON ST 200</td>\n",
       "      <td>CASH</td>\n",
       "      <td>01-OCT-18 11.44.01 AM</td>\n",
       "      <td>01-OCT-18 11.59.00 AM</td>\n",
       "      <td>NS</td>\n",
       "      <td>0.75</td>\n",
       "    </tr>\n",
       "    <tr>\n",
       "      <th>17576583</th>\n",
       "      <td>720-01050</td>\n",
       "      <td>WASHINGTON ST 100</td>\n",
       "      <td>CREDIT CARD</td>\n",
       "      <td>17-OCT-18 03.39.22 PM</td>\n",
       "      <td>17-OCT-18 03.41.46 PM</td>\n",
       "      <td>NS</td>\n",
       "      <td>0.25</td>\n",
       "    </tr>\n",
       "    <tr>\n",
       "      <th>17576980</th>\n",
       "      <td>720-05090</td>\n",
       "      <td>WASHINGTON ST 500</td>\n",
       "      <td>CREDIT CARD</td>\n",
       "      <td>01-OCT-18 09.59.43 AM</td>\n",
       "      <td>01-OCT-18 01.07.30 PM</td>\n",
       "      <td>AT</td>\n",
       "      <td>8.00</td>\n",
       "    </tr>\n",
       "    <tr>\n",
       "      <th>17577016</th>\n",
       "      <td>720-00090</td>\n",
       "      <td>WASHINGTON ST 0</td>\n",
       "      <td>CREDIT CARD</td>\n",
       "      <td>15-OCT-18 02.02.38 PM</td>\n",
       "      <td>15-OCT-18 02.45.08 PM</td>\n",
       "      <td>AT</td>\n",
       "      <td>3.00</td>\n",
       "    </tr>\n",
       "    <tr>\n",
       "      <th>17577670</th>\n",
       "      <td>720-04470</td>\n",
       "      <td>WASHINGTON ST 400</td>\n",
       "      <td>CREDIT CARD</td>\n",
       "      <td>03-OCT-18 10.57.01 AM</td>\n",
       "      <td>03-OCT-18 01.57.04 PM</td>\n",
       "      <td>NS</td>\n",
       "      <td>14.67</td>\n",
       "    </tr>\n",
       "    <tr>\n",
       "      <th>17577703</th>\n",
       "      <td>720-00240</td>\n",
       "      <td>WASHINGTON ST 0</td>\n",
       "      <td>CREDIT CARD</td>\n",
       "      <td>25-OCT-18 03.32.38 PM</td>\n",
       "      <td>25-OCT-18 06.00.00 PM</td>\n",
       "      <td>NS</td>\n",
       "      <td>9.50</td>\n",
       "    </tr>\n",
       "    <tr>\n",
       "      <th>17577842</th>\n",
       "      <td>720-05140</td>\n",
       "      <td>WASHINGTON ST 500</td>\n",
       "      <td>PAY BY CELL</td>\n",
       "      <td>13-OCT-18 05.17.00 PM</td>\n",
       "      <td>13-OCT-18 06.01.00 PM</td>\n",
       "      <td>NS</td>\n",
       "      <td>1.08</td>\n",
       "    </tr>\n",
       "    <tr>\n",
       "      <th>17577914</th>\n",
       "      <td>720-17500</td>\n",
       "      <td>WASHINGTON ST 1700</td>\n",
       "      <td>SMART CARD</td>\n",
       "      <td>31-OCT-18 10.03.14 AM</td>\n",
       "      <td>31-OCT-18 10.10.44 AM</td>\n",
       "      <td>NS</td>\n",
       "      <td>0.25</td>\n",
       "    </tr>\n",
       "    <tr>\n",
       "      <th>17578076</th>\n",
       "      <td>720-03190</td>\n",
       "      <td>WASHINGTON ST 300</td>\n",
       "      <td>CASH</td>\n",
       "      <td>03-OCT-18 11.12.09 AM</td>\n",
       "      <td>03-OCT-18 12.12.09 PM</td>\n",
       "      <td>AT</td>\n",
       "      <td>0.25</td>\n",
       "    </tr>\n",
       "    <tr>\n",
       "      <th>17578107</th>\n",
       "      <td>720-02220</td>\n",
       "      <td>WASHINGTON ST 200</td>\n",
       "      <td>CREDIT CARD</td>\n",
       "      <td>01-OCT-18 12.20.00 PM</td>\n",
       "      <td>01-OCT-18 02.02.03 PM</td>\n",
       "      <td>NS</td>\n",
       "      <td>2.38</td>\n",
       "    </tr>\n",
       "    <tr>\n",
       "      <th>17578115</th>\n",
       "      <td>720-00240</td>\n",
       "      <td>WASHINGTON ST 0</td>\n",
       "      <td>CREDIT CARD</td>\n",
       "      <td>30-OCT-18 10.43.18 AM</td>\n",
       "      <td>30-OCT-18 02.11.47 PM</td>\n",
       "      <td>NS</td>\n",
       "      <td>18.75</td>\n",
       "    </tr>\n",
       "    <tr>\n",
       "      <th>17578307</th>\n",
       "      <td>720-16580</td>\n",
       "      <td>WASHINGTON ST 1600</td>\n",
       "      <td>PAY BY CELL</td>\n",
       "      <td>09-OCT-18 02.25.00 PM</td>\n",
       "      <td>09-OCT-18 04.25.00 PM</td>\n",
       "      <td>NS</td>\n",
       "      <td>4.50</td>\n",
       "    </tr>\n",
       "    <tr>\n",
       "      <th>17578743</th>\n",
       "      <td>720-00140</td>\n",
       "      <td>WASHINGTON ST 0</td>\n",
       "      <td>CREDIT CARD</td>\n",
       "      <td>29-OCT-18 10.31.34 AM</td>\n",
       "      <td>29-OCT-18 12.30.51 PM</td>\n",
       "      <td>NS</td>\n",
       "      <td>8.50</td>\n",
       "    </tr>\n",
       "    <tr>\n",
       "      <th>17578755</th>\n",
       "      <td>720-04450</td>\n",
       "      <td>WASHINGTON ST 400</td>\n",
       "      <td>PAY BY CELL</td>\n",
       "      <td>30-OCT-18 09.25.00 AM</td>\n",
       "      <td>30-OCT-18 12.25.00 PM</td>\n",
       "      <td>NS</td>\n",
       "      <td>11.98</td>\n",
       "    </tr>\n",
       "    <tr>\n",
       "      <th>17578857</th>\n",
       "      <td>720-17220</td>\n",
       "      <td>WASHINGTON ST 1700</td>\n",
       "      <td>CREDIT CARD</td>\n",
       "      <td>27-OCT-18 10.19.13 AM</td>\n",
       "      <td>27-OCT-18 11.49.13 AM</td>\n",
       "      <td>NS</td>\n",
       "      <td>2.25</td>\n",
       "    </tr>\n",
       "    <tr>\n",
       "      <th>17578991</th>\n",
       "      <td>720-16050</td>\n",
       "      <td>WASHINGTON ST 1600</td>\n",
       "      <td>CREDIT CARD</td>\n",
       "      <td>01-OCT-18 07.29.10 AM</td>\n",
       "      <td>01-OCT-18 11.00.00 AM</td>\n",
       "      <td>NS</td>\n",
       "      <td>4.00</td>\n",
       "    </tr>\n",
       "    <tr>\n",
       "      <th>17579233</th>\n",
       "      <td>720-04490</td>\n",
       "      <td>WASHINGTON ST 400</td>\n",
       "      <td>CASH</td>\n",
       "      <td>31-OCT-18 07.24.00 AM</td>\n",
       "      <td>31-OCT-18 08.32.24 AM</td>\n",
       "      <td>AT</td>\n",
       "      <td>0.65</td>\n",
       "    </tr>\n",
       "    <tr>\n",
       "      <th>17579315</th>\n",
       "      <td>720-17350</td>\n",
       "      <td>WASHINGTON ST 1700</td>\n",
       "      <td>CREDIT CARD</td>\n",
       "      <td>04-OCT-18 12.55.24 PM</td>\n",
       "      <td>04-OCT-18 02.55.24 PM</td>\n",
       "      <td>NS</td>\n",
       "      <td>4.50</td>\n",
       "    </tr>\n",
       "    <tr>\n",
       "      <th>17579717</th>\n",
       "      <td>720-17410</td>\n",
       "      <td>WASHINGTON ST 1700</td>\n",
       "      <td>CREDIT CARD</td>\n",
       "      <td>29-OCT-18 09.52.20 AM</td>\n",
       "      <td>29-OCT-18 10.37.20 AM</td>\n",
       "      <td>NS</td>\n",
       "      <td>1.50</td>\n",
       "    </tr>\n",
       "    <tr>\n",
       "      <th>17580272</th>\n",
       "      <td>720-03357</td>\n",
       "      <td>WASHINGTON ST 300</td>\n",
       "      <td>CREDIT CARD</td>\n",
       "      <td>16-OCT-18 08.18.01 AM</td>\n",
       "      <td>16-OCT-18 06.00.00 PM</td>\n",
       "      <td>NS</td>\n",
       "      <td>3.15</td>\n",
       "    </tr>\n",
       "    <tr>\n",
       "      <th>17580430</th>\n",
       "      <td>720-06120</td>\n",
       "      <td>WASHINGTON ST 600</td>\n",
       "      <td>CASH</td>\n",
       "      <td>24-OCT-18 03.29.19 PM</td>\n",
       "      <td>24-OCT-18 03.55.44 PM</td>\n",
       "      <td>AT</td>\n",
       "      <td>0.85</td>\n",
       "    </tr>\n",
       "    <tr>\n",
       "      <th>17580563</th>\n",
       "      <td>720-01200</td>\n",
       "      <td>WASHINGTON ST 100</td>\n",
       "      <td>CREDIT CARD</td>\n",
       "      <td>20-OCT-18 04.37.50 PM</td>\n",
       "      <td>20-OCT-18 05.27.11 PM</td>\n",
       "      <td>AT</td>\n",
       "      <td>0.25</td>\n",
       "    </tr>\n",
       "    <tr>\n",
       "      <th>17580726</th>\n",
       "      <td>720-17350</td>\n",
       "      <td>WASHINGTON ST 1700</td>\n",
       "      <td>CREDIT CARD</td>\n",
       "      <td>15-OCT-18 10.38.55 AM</td>\n",
       "      <td>15-OCT-18 11.38.55 AM</td>\n",
       "      <td>NS</td>\n",
       "      <td>2.00</td>\n",
       "    </tr>\n",
       "    <tr>\n",
       "      <th>17580791</th>\n",
       "      <td>720-16320</td>\n",
       "      <td>WASHINGTON ST 1600</td>\n",
       "      <td>CREDIT CARD</td>\n",
       "      <td>13-OCT-18 03.26.54 PM</td>\n",
       "      <td>13-OCT-18 05.26.54 PM</td>\n",
       "      <td>NS</td>\n",
       "      <td>4.50</td>\n",
       "    </tr>\n",
       "    <tr>\n",
       "      <th>17580795</th>\n",
       "      <td>720-00060</td>\n",
       "      <td>WASHINGTON ST 0</td>\n",
       "      <td>PAY BY CELL</td>\n",
       "      <td>25-OCT-18 11.16.00 AM</td>\n",
       "      <td>25-OCT-18 12.16.00 PM</td>\n",
       "      <td>NS</td>\n",
       "      <td>4.30</td>\n",
       "    </tr>\n",
       "    <tr>\n",
       "      <th>17581002</th>\n",
       "      <td>720-08200</td>\n",
       "      <td>WASHINGTON ST 800</td>\n",
       "      <td>CASH</td>\n",
       "      <td>10-OCT-18 04.38.42 PM</td>\n",
       "      <td>10-OCT-18 04.53.29 PM</td>\n",
       "      <td>NS</td>\n",
       "      <td>0.80</td>\n",
       "    </tr>\n",
       "    <tr>\n",
       "      <th>17581005</th>\n",
       "      <td>720-00160</td>\n",
       "      <td>WASHINGTON ST 0</td>\n",
       "      <td>CREDIT CARD</td>\n",
       "      <td>03-OCT-18 11.55.28 AM</td>\n",
       "      <td>03-OCT-18 12.39.10 PM</td>\n",
       "      <td>NS</td>\n",
       "      <td>1.75</td>\n",
       "    </tr>\n",
       "    <tr>\n",
       "      <th>17581085</th>\n",
       "      <td>720-17320</td>\n",
       "      <td>WASHINGTON ST 1700</td>\n",
       "      <td>CREDIT CARD</td>\n",
       "      <td>13-OCT-18 02.47.42 PM</td>\n",
       "      <td>13-OCT-18 03.42.56 PM</td>\n",
       "      <td>NS</td>\n",
       "      <td>2.25</td>\n",
       "    </tr>\n",
       "  </tbody>\n",
       "</table>\n",
       "<p>18436 rows × 7 columns</p>\n",
       "</div>"
      ],
      "text/plain": [
       "            POST_ID        STREET_BLOCK PAYMENT_TYPE       SESSION_START_DT  \\\n",
       "15049881  720-05390   WASHINGTON ST 500  CREDIT CARD  04-OCT-18 08.32.01 AM   \n",
       "15050090  720-04430   WASHINGTON ST 400  CREDIT CARD  09-OCT-18 09.30.01 AM   \n",
       "15050263  720-06200   WASHINGTON ST 600  CREDIT CARD  03-OCT-18 12.15.18 PM   \n",
       "15050390  720-03433   WASHINGTON ST 300  CREDIT CARD  01-OCT-18 08.16.01 AM   \n",
       "15050491  720-05390   WASHINGTON ST 500  CREDIT CARD  22-OCT-18 06.56.01 AM   \n",
       "15050537  720-01040   WASHINGTON ST 100  CREDIT CARD  29-OCT-18 01.30.37 PM   \n",
       "15050565  720-16400  WASHINGTON ST 1600  CREDIT CARD  29-OCT-18 05.58.33 PM   \n",
       "15050590  720-02090   WASHINGTON ST 200         CASH  01-OCT-18 12.23.00 PM   \n",
       "15050857  720-01140   WASHINGTON ST 100  CREDIT CARD  18-OCT-18 11.29.30 AM   \n",
       "15050966  720-16510  WASHINGTON ST 1600  CREDIT CARD  26-OCT-18 12.15.38 PM   \n",
       "15051323  720-02240   WASHINGTON ST 200  PAY BY CELL  29-OCT-18 10.38.00 AM   \n",
       "15051464  720-16330  WASHINGTON ST 1600  CREDIT CARD  31-OCT-18 03.18.35 PM   \n",
       "15051877  720-03140   WASHINGTON ST 300  CREDIT CARD  18-OCT-18 09.42.01 AM   \n",
       "15052050  720-05630   WASHINGTON ST 500  PAY BY CELL  17-OCT-18 07.48.00 AM   \n",
       "15052090  720-16340  WASHINGTON ST 1600   SMART CARD  11-OCT-18 09.59.44 AM   \n",
       "15052246  720-05470   WASHINGTON ST 500  PAY BY CELL  24-OCT-18 08.23.00 AM   \n",
       "15052278  720-24360  WASHINGTON ST 2400         CASH  27-OCT-18 12.34.06 PM   \n",
       "15052448  720-00170     WASHINGTON ST 0  CREDIT CARD  26-OCT-18 03.01.35 PM   \n",
       "15052498  720-02080   WASHINGTON ST 200   SMART CARD  18-OCT-18 10.32.01 AM   \n",
       "15052589  720-05670   WASHINGTON ST 500  CREDIT CARD  03-OCT-18 10.15.01 AM   \n",
       "15052747  720-08440   WASHINGTON ST 800  CREDIT CARD  13-OCT-18 01.42.13 PM   \n",
       "15052828  720-00150     WASHINGTON ST 0         CASH  03-OCT-18 11.10.17 AM   \n",
       "15053711  720-17110  WASHINGTON ST 1700  CREDIT CARD  13-OCT-18 01.09.43 PM   \n",
       "15053730  720-04090   WASHINGTON ST 400  CREDIT CARD  05-OCT-18 11.34.01 AM   \n",
       "15053791  720-01240   WASHINGTON ST 100         CASH  03-OCT-18 03.49.19 PM   \n",
       "15054022  720-04270   WASHINGTON ST 400  CREDIT CARD  15-OCT-18 06.49.01 AM   \n",
       "15054034  720-16570  WASHINGTON ST 1600  PAY BY CELL  11-OCT-18 03.44.00 PM   \n",
       "15054370  720-08090   WASHINGTON ST 800  CREDIT CARD  24-OCT-18 09.52.40 AM   \n",
       "15054451  720-00150     WASHINGTON ST 0         CASH  24-OCT-18 01.34.50 PM   \n",
       "15054552  720-05600   WASHINGTON ST 500  CREDIT CARD  29-OCT-18 08.20.01 AM   \n",
       "...             ...                 ...          ...                    ...   \n",
       "17576066  720-00210     WASHINGTON ST 0  CREDIT CARD  31-OCT-18 04.56.22 PM   \n",
       "17576470  720-18170  WASHINGTON ST 1800  PAY BY CELL  29-OCT-18 03.22.00 PM   \n",
       "17576557  720-02170   WASHINGTON ST 200         CASH  01-OCT-18 11.44.01 AM   \n",
       "17576583  720-01050   WASHINGTON ST 100  CREDIT CARD  17-OCT-18 03.39.22 PM   \n",
       "17576980  720-05090   WASHINGTON ST 500  CREDIT CARD  01-OCT-18 09.59.43 AM   \n",
       "17577016  720-00090     WASHINGTON ST 0  CREDIT CARD  15-OCT-18 02.02.38 PM   \n",
       "17577670  720-04470   WASHINGTON ST 400  CREDIT CARD  03-OCT-18 10.57.01 AM   \n",
       "17577703  720-00240     WASHINGTON ST 0  CREDIT CARD  25-OCT-18 03.32.38 PM   \n",
       "17577842  720-05140   WASHINGTON ST 500  PAY BY CELL  13-OCT-18 05.17.00 PM   \n",
       "17577914  720-17500  WASHINGTON ST 1700   SMART CARD  31-OCT-18 10.03.14 AM   \n",
       "17578076  720-03190   WASHINGTON ST 300         CASH  03-OCT-18 11.12.09 AM   \n",
       "17578107  720-02220   WASHINGTON ST 200  CREDIT CARD  01-OCT-18 12.20.00 PM   \n",
       "17578115  720-00240     WASHINGTON ST 0  CREDIT CARD  30-OCT-18 10.43.18 AM   \n",
       "17578307  720-16580  WASHINGTON ST 1600  PAY BY CELL  09-OCT-18 02.25.00 PM   \n",
       "17578743  720-00140     WASHINGTON ST 0  CREDIT CARD  29-OCT-18 10.31.34 AM   \n",
       "17578755  720-04450   WASHINGTON ST 400  PAY BY CELL  30-OCT-18 09.25.00 AM   \n",
       "17578857  720-17220  WASHINGTON ST 1700  CREDIT CARD  27-OCT-18 10.19.13 AM   \n",
       "17578991  720-16050  WASHINGTON ST 1600  CREDIT CARD  01-OCT-18 07.29.10 AM   \n",
       "17579233  720-04490   WASHINGTON ST 400         CASH  31-OCT-18 07.24.00 AM   \n",
       "17579315  720-17350  WASHINGTON ST 1700  CREDIT CARD  04-OCT-18 12.55.24 PM   \n",
       "17579717  720-17410  WASHINGTON ST 1700  CREDIT CARD  29-OCT-18 09.52.20 AM   \n",
       "17580272  720-03357   WASHINGTON ST 300  CREDIT CARD  16-OCT-18 08.18.01 AM   \n",
       "17580430  720-06120   WASHINGTON ST 600         CASH  24-OCT-18 03.29.19 PM   \n",
       "17580563  720-01200   WASHINGTON ST 100  CREDIT CARD  20-OCT-18 04.37.50 PM   \n",
       "17580726  720-17350  WASHINGTON ST 1700  CREDIT CARD  15-OCT-18 10.38.55 AM   \n",
       "17580791  720-16320  WASHINGTON ST 1600  CREDIT CARD  13-OCT-18 03.26.54 PM   \n",
       "17580795  720-00060     WASHINGTON ST 0  PAY BY CELL  25-OCT-18 11.16.00 AM   \n",
       "17581002  720-08200   WASHINGTON ST 800         CASH  10-OCT-18 04.38.42 PM   \n",
       "17581005  720-00160     WASHINGTON ST 0  CREDIT CARD  03-OCT-18 11.55.28 AM   \n",
       "17581085  720-17320  WASHINGTON ST 1700  CREDIT CARD  13-OCT-18 02.47.42 PM   \n",
       "\n",
       "                 SESSION_END_DT METER_EVENT_TYPE  GROSS_PAID_AMT  \n",
       "15049881  04-OCT-18 06.00.00 PM               NS            3.32  \n",
       "15050090  09-OCT-18 01.30.00 PM               NS           17.63  \n",
       "15050263  03-OCT-18 01.15.18 PM               NS            3.75  \n",
       "15050390  01-OCT-18 01.00.00 PM               NS            1.40  \n",
       "15050491  22-OCT-18 06.00.00 PM               NS            3.85  \n",
       "15050537  29-OCT-18 03.30.37 PM               NS           12.50  \n",
       "15050565  29-OCT-18 06.00.00 PM               AT            0.25  \n",
       "15050590  01-OCT-18 01.18.41 PM               AT            3.30  \n",
       "15050857  18-OCT-18 01.22.14 PM               AT           11.50  \n",
       "15050966  26-OCT-18 02.15.38 PM               NS            4.50  \n",
       "15051323  29-OCT-18 11.08.00 AM               NS            1.50  \n",
       "15051464  31-OCT-18 05.18.12 PM               AT            4.27  \n",
       "15051877  18-OCT-18 10.42.00 AM               NS            2.75  \n",
       "15052050  17-OCT-18 06.00.00 PM               NS            3.57  \n",
       "15052090  11-OCT-18 10.59.44 AM               NS            2.00  \n",
       "15052246  24-OCT-18 05.23.00 PM               NS            3.15  \n",
       "15052278  27-OCT-18 12.58.38 PM               AT            0.25  \n",
       "15052448  26-OCT-18 05.01.35 PM               NS           14.00  \n",
       "15052498  18-OCT-18 11.02.00 AM               NS            1.50  \n",
       "15052589  03-OCT-18 05.15.00 PM               NS            2.45  \n",
       "15052747  13-OCT-18 02.12.13 PM               NS            1.63  \n",
       "15052828  03-OCT-18 12.21.30 PM               NS            0.25  \n",
       "15053711  13-OCT-18 01.59.27 PM               NS            1.75  \n",
       "15053730  05-OCT-18 12.34.05 PM               NS            4.75  \n",
       "15053791  03-OCT-18 04.04.41 PM               NS            1.60  \n",
       "15054022  15-OCT-18 09.00.00 AM               NS            7.50  \n",
       "15054034  11-OCT-18 05.44.00 PM               NS            4.50  \n",
       "15054370  24-OCT-18 11.24.59 AM               NS            5.00  \n",
       "15054451  24-OCT-18 01.49.37 PM               NS            1.60  \n",
       "15054552  29-OCT-18 06.00.00 PM               NS            3.39  \n",
       "...                         ...              ...             ...  \n",
       "17576066  31-OCT-18 06.00.00 PM               NS            7.45  \n",
       "17576470  29-OCT-18 03.52.00 PM               AT            1.37  \n",
       "17576557  01-OCT-18 11.59.00 AM               NS            0.75  \n",
       "17576583  17-OCT-18 03.41.46 PM               NS            0.25  \n",
       "17576980  01-OCT-18 01.07.30 PM               AT            8.00  \n",
       "17577016  15-OCT-18 02.45.08 PM               AT            3.00  \n",
       "17577670  03-OCT-18 01.57.04 PM               NS           14.67  \n",
       "17577703  25-OCT-18 06.00.00 PM               NS            9.50  \n",
       "17577842  13-OCT-18 06.01.00 PM               NS            1.08  \n",
       "17577914  31-OCT-18 10.10.44 AM               NS            0.25  \n",
       "17578076  03-OCT-18 12.12.09 PM               AT            0.25  \n",
       "17578107  01-OCT-18 02.02.03 PM               NS            2.38  \n",
       "17578115  30-OCT-18 02.11.47 PM               NS           18.75  \n",
       "17578307  09-OCT-18 04.25.00 PM               NS            4.50  \n",
       "17578743  29-OCT-18 12.30.51 PM               NS            8.50  \n",
       "17578755  30-OCT-18 12.25.00 PM               NS           11.98  \n",
       "17578857  27-OCT-18 11.49.13 AM               NS            2.25  \n",
       "17578991  01-OCT-18 11.00.00 AM               NS            4.00  \n",
       "17579233  31-OCT-18 08.32.24 AM               AT            0.65  \n",
       "17579315  04-OCT-18 02.55.24 PM               NS            4.50  \n",
       "17579717  29-OCT-18 10.37.20 AM               NS            1.50  \n",
       "17580272  16-OCT-18 06.00.00 PM               NS            3.15  \n",
       "17580430  24-OCT-18 03.55.44 PM               AT            0.85  \n",
       "17580563  20-OCT-18 05.27.11 PM               AT            0.25  \n",
       "17580726  15-OCT-18 11.38.55 AM               NS            2.00  \n",
       "17580791  13-OCT-18 05.26.54 PM               NS            4.50  \n",
       "17580795  25-OCT-18 12.16.00 PM               NS            4.30  \n",
       "17581002  10-OCT-18 04.53.29 PM               NS            0.80  \n",
       "17581005  03-OCT-18 12.39.10 PM               NS            1.75  \n",
       "17581085  13-OCT-18 03.42.56 PM               NS            2.25  \n",
       "\n",
       "[18436 rows x 7 columns]"
      ]
     },
     "execution_count": 78,
     "metadata": {},
     "output_type": "execute_result"
    }
   ],
   "source": [
    "enddf[enddf['STREET_BLOCK'].str.contains('WASHINGTON ST')]"
   ]
  },
  {
   "cell_type": "code",
   "execution_count": null,
   "metadata": {},
   "outputs": [],
   "source": []
  },
  {
   "cell_type": "code",
   "execution_count": null,
   "metadata": {},
   "outputs": [],
   "source": []
  },
  {
   "cell_type": "code",
   "execution_count": null,
   "metadata": {},
   "outputs": [],
   "source": []
  },
  {
   "cell_type": "code",
   "execution_count": null,
   "metadata": {},
   "outputs": [],
   "source": []
  },
  {
   "cell_type": "code",
   "execution_count": null,
   "metadata": {},
   "outputs": [],
   "source": []
  },
  {
   "cell_type": "code",
   "execution_count": 15,
   "metadata": {
    "ExecuteTime": {
     "end_time": "2019-01-16T20:44:59.529804Z",
     "start_time": "2019-01-16T20:44:58.872882Z"
    }
   },
   "outputs": [
    {
     "ename": "ValueError",
     "evalue": "('Unknown string format:', '10-AUG-17 02.00.53 PM')",
     "output_type": "error",
     "traceback": [
      "\u001b[0;31m---------------------------------------------------------------------------\u001b[0m",
      "\u001b[0;31mTypeError\u001b[0m                                 Traceback (most recent call last)",
      "\u001b[0;32m~/anaconda3/lib/python3.6/site-packages/pandas/core/tools/datetimes.py\u001b[0m in \u001b[0;36m_convert_listlike\u001b[0;34m(arg, box, format, name, tz)\u001b[0m\n\u001b[1;32m    376\u001b[0m             \u001b[0;32mtry\u001b[0m\u001b[0;34m:\u001b[0m\u001b[0;34m\u001b[0m\u001b[0;34m\u001b[0m\u001b[0m\n\u001b[0;32m--> 377\u001b[0;31m                 \u001b[0mvalues\u001b[0m\u001b[0;34m,\u001b[0m \u001b[0mtz\u001b[0m \u001b[0;34m=\u001b[0m \u001b[0mconversion\u001b[0m\u001b[0;34m.\u001b[0m\u001b[0mdatetime_to_datetime64\u001b[0m\u001b[0;34m(\u001b[0m\u001b[0marg\u001b[0m\u001b[0;34m)\u001b[0m\u001b[0;34m\u001b[0m\u001b[0;34m\u001b[0m\u001b[0m\n\u001b[0m\u001b[1;32m    378\u001b[0m                 \u001b[0;32mreturn\u001b[0m \u001b[0mDatetimeIndex\u001b[0m\u001b[0;34m.\u001b[0m\u001b[0m_simple_new\u001b[0m\u001b[0;34m(\u001b[0m\u001b[0mvalues\u001b[0m\u001b[0;34m,\u001b[0m \u001b[0mname\u001b[0m\u001b[0;34m=\u001b[0m\u001b[0mname\u001b[0m\u001b[0;34m,\u001b[0m \u001b[0mtz\u001b[0m\u001b[0;34m=\u001b[0m\u001b[0mtz\u001b[0m\u001b[0;34m)\u001b[0m\u001b[0;34m\u001b[0m\u001b[0;34m\u001b[0m\u001b[0m\n",
      "\u001b[0;32mpandas/_libs/tslibs/conversion.pyx\u001b[0m in \u001b[0;36mpandas._libs.tslibs.conversion.datetime_to_datetime64\u001b[0;34m()\u001b[0m\n",
      "\u001b[0;31mTypeError\u001b[0m: Unrecognized value type: <class 'str'>",
      "\nDuring handling of the above exception, another exception occurred:\n",
      "\u001b[0;31mValueError\u001b[0m                                Traceback (most recent call last)",
      "\u001b[0;32m<ipython-input-15-4b62d9e708d9>\u001b[0m in \u001b[0;36m<module>\u001b[0;34m\u001b[0m\n\u001b[0;32m----> 1\u001b[0;31m \u001b[0mdate_series2\u001b[0m \u001b[0;34m=\u001b[0m \u001b[0mpd\u001b[0m\u001b[0;34m.\u001b[0m\u001b[0mto_datetime\u001b[0m\u001b[0;34m(\u001b[0m\u001b[0msfmta\u001b[0m\u001b[0;34m[\u001b[0m\u001b[0;34m'SESSION_START_DT'\u001b[0m\u001b[0;34m]\u001b[0m\u001b[0;34m)\u001b[0m\u001b[0;34m\u001b[0m\u001b[0;34m\u001b[0m\u001b[0m\n\u001b[0m\u001b[1;32m      2\u001b[0m \u001b[0mdate_series2\u001b[0m\u001b[0;34m.\u001b[0m\u001b[0mhead\u001b[0m\u001b[0;34m(\u001b[0m\u001b[0;36m5\u001b[0m\u001b[0;34m)\u001b[0m\u001b[0;34m\u001b[0m\u001b[0;34m\u001b[0m\u001b[0m\n",
      "\u001b[0;32m~/anaconda3/lib/python3.6/site-packages/pandas/core/tools/datetimes.py\u001b[0m in \u001b[0;36mto_datetime\u001b[0;34m(arg, errors, dayfirst, yearfirst, utc, box, format, exact, unit, infer_datetime_format, origin, cache)\u001b[0m\n\u001b[1;32m    449\u001b[0m         \u001b[0;32melse\u001b[0m\u001b[0;34m:\u001b[0m\u001b[0;34m\u001b[0m\u001b[0;34m\u001b[0m\u001b[0m\n\u001b[1;32m    450\u001b[0m             \u001b[0;32mfrom\u001b[0m \u001b[0mpandas\u001b[0m \u001b[0;32mimport\u001b[0m \u001b[0mSeries\u001b[0m\u001b[0;34m\u001b[0m\u001b[0;34m\u001b[0m\u001b[0m\n\u001b[0;32m--> 451\u001b[0;31m             \u001b[0mvalues\u001b[0m \u001b[0;34m=\u001b[0m \u001b[0m_convert_listlike\u001b[0m\u001b[0;34m(\u001b[0m\u001b[0marg\u001b[0m\u001b[0;34m.\u001b[0m\u001b[0m_values\u001b[0m\u001b[0;34m,\u001b[0m \u001b[0;32mTrue\u001b[0m\u001b[0;34m,\u001b[0m \u001b[0mformat\u001b[0m\u001b[0;34m)\u001b[0m\u001b[0;34m\u001b[0m\u001b[0;34m\u001b[0m\u001b[0m\n\u001b[0m\u001b[1;32m    452\u001b[0m             \u001b[0mresult\u001b[0m \u001b[0;34m=\u001b[0m \u001b[0mSeries\u001b[0m\u001b[0;34m(\u001b[0m\u001b[0mvalues\u001b[0m\u001b[0;34m,\u001b[0m \u001b[0mindex\u001b[0m\u001b[0;34m=\u001b[0m\u001b[0marg\u001b[0m\u001b[0;34m.\u001b[0m\u001b[0mindex\u001b[0m\u001b[0;34m,\u001b[0m \u001b[0mname\u001b[0m\u001b[0;34m=\u001b[0m\u001b[0marg\u001b[0m\u001b[0;34m.\u001b[0m\u001b[0mname\u001b[0m\u001b[0;34m)\u001b[0m\u001b[0;34m\u001b[0m\u001b[0;34m\u001b[0m\u001b[0m\n\u001b[1;32m    453\u001b[0m     \u001b[0;32melif\u001b[0m \u001b[0misinstance\u001b[0m\u001b[0;34m(\u001b[0m\u001b[0marg\u001b[0m\u001b[0;34m,\u001b[0m \u001b[0;34m(\u001b[0m\u001b[0mABCDataFrame\u001b[0m\u001b[0;34m,\u001b[0m \u001b[0mMutableMapping\u001b[0m\u001b[0;34m)\u001b[0m\u001b[0;34m)\u001b[0m\u001b[0;34m:\u001b[0m\u001b[0;34m\u001b[0m\u001b[0;34m\u001b[0m\u001b[0m\n",
      "\u001b[0;32m~/anaconda3/lib/python3.6/site-packages/pandas/core/tools/datetimes.py\u001b[0m in \u001b[0;36m_convert_listlike\u001b[0;34m(arg, box, format, name, tz)\u001b[0m\n\u001b[1;32m    378\u001b[0m                 \u001b[0;32mreturn\u001b[0m \u001b[0mDatetimeIndex\u001b[0m\u001b[0;34m.\u001b[0m\u001b[0m_simple_new\u001b[0m\u001b[0;34m(\u001b[0m\u001b[0mvalues\u001b[0m\u001b[0;34m,\u001b[0m \u001b[0mname\u001b[0m\u001b[0;34m=\u001b[0m\u001b[0mname\u001b[0m\u001b[0;34m,\u001b[0m \u001b[0mtz\u001b[0m\u001b[0;34m=\u001b[0m\u001b[0mtz\u001b[0m\u001b[0;34m)\u001b[0m\u001b[0;34m\u001b[0m\u001b[0;34m\u001b[0m\u001b[0m\n\u001b[1;32m    379\u001b[0m             \u001b[0;32mexcept\u001b[0m \u001b[0;34m(\u001b[0m\u001b[0mValueError\u001b[0m\u001b[0;34m,\u001b[0m \u001b[0mTypeError\u001b[0m\u001b[0;34m)\u001b[0m\u001b[0;34m:\u001b[0m\u001b[0;34m\u001b[0m\u001b[0;34m\u001b[0m\u001b[0m\n\u001b[0;32m--> 380\u001b[0;31m                 \u001b[0;32mraise\u001b[0m \u001b[0me\u001b[0m\u001b[0;34m\u001b[0m\u001b[0;34m\u001b[0m\u001b[0m\n\u001b[0m\u001b[1;32m    381\u001b[0m \u001b[0;34m\u001b[0m\u001b[0m\n\u001b[1;32m    382\u001b[0m     \u001b[0;32mif\u001b[0m \u001b[0marg\u001b[0m \u001b[0;32mis\u001b[0m \u001b[0;32mNone\u001b[0m\u001b[0;34m:\u001b[0m\u001b[0;34m\u001b[0m\u001b[0;34m\u001b[0m\u001b[0m\n",
      "\u001b[0;32m~/anaconda3/lib/python3.6/site-packages/pandas/core/tools/datetimes.py\u001b[0m in \u001b[0;36m_convert_listlike\u001b[0;34m(arg, box, format, name, tz)\u001b[0m\n\u001b[1;32m    366\u001b[0m                     \u001b[0mdayfirst\u001b[0m\u001b[0;34m=\u001b[0m\u001b[0mdayfirst\u001b[0m\u001b[0;34m,\u001b[0m\u001b[0;34m\u001b[0m\u001b[0;34m\u001b[0m\u001b[0m\n\u001b[1;32m    367\u001b[0m                     \u001b[0myearfirst\u001b[0m\u001b[0;34m=\u001b[0m\u001b[0myearfirst\u001b[0m\u001b[0;34m,\u001b[0m\u001b[0;34m\u001b[0m\u001b[0;34m\u001b[0m\u001b[0m\n\u001b[0;32m--> 368\u001b[0;31m                     \u001b[0mrequire_iso8601\u001b[0m\u001b[0;34m=\u001b[0m\u001b[0mrequire_iso8601\u001b[0m\u001b[0;34m\u001b[0m\u001b[0;34m\u001b[0m\u001b[0m\n\u001b[0m\u001b[1;32m    369\u001b[0m                 )\n\u001b[1;32m    370\u001b[0m \u001b[0;34m\u001b[0m\u001b[0m\n",
      "\u001b[0;32mpandas/_libs/tslib.pyx\u001b[0m in \u001b[0;36mpandas._libs.tslib.array_to_datetime\u001b[0;34m()\u001b[0m\n",
      "\u001b[0;32mpandas/_libs/tslib.pyx\u001b[0m in \u001b[0;36mpandas._libs.tslib.array_to_datetime\u001b[0;34m()\u001b[0m\n",
      "\u001b[0;32mpandas/_libs/tslib.pyx\u001b[0m in \u001b[0;36mpandas._libs.tslib.array_to_datetime\u001b[0;34m()\u001b[0m\n",
      "\u001b[0;32mpandas/_libs/tslibs/parsing.pyx\u001b[0m in \u001b[0;36mpandas._libs.tslibs.parsing.parse_datetime_string\u001b[0;34m()\u001b[0m\n",
      "\u001b[0;32m~/anaconda3/lib/python3.6/site-packages/dateutil/parser/_parser.py\u001b[0m in \u001b[0;36mparse\u001b[0;34m(timestr, parserinfo, **kwargs)\u001b[0m\n\u001b[1;32m   1354\u001b[0m         \u001b[0;32mreturn\u001b[0m \u001b[0mparser\u001b[0m\u001b[0;34m(\u001b[0m\u001b[0mparserinfo\u001b[0m\u001b[0;34m)\u001b[0m\u001b[0;34m.\u001b[0m\u001b[0mparse\u001b[0m\u001b[0;34m(\u001b[0m\u001b[0mtimestr\u001b[0m\u001b[0;34m,\u001b[0m \u001b[0;34m**\u001b[0m\u001b[0mkwargs\u001b[0m\u001b[0;34m)\u001b[0m\u001b[0;34m\u001b[0m\u001b[0;34m\u001b[0m\u001b[0m\n\u001b[1;32m   1355\u001b[0m     \u001b[0;32melse\u001b[0m\u001b[0;34m:\u001b[0m\u001b[0;34m\u001b[0m\u001b[0;34m\u001b[0m\u001b[0m\n\u001b[0;32m-> 1356\u001b[0;31m         \u001b[0;32mreturn\u001b[0m \u001b[0mDEFAULTPARSER\u001b[0m\u001b[0;34m.\u001b[0m\u001b[0mparse\u001b[0m\u001b[0;34m(\u001b[0m\u001b[0mtimestr\u001b[0m\u001b[0;34m,\u001b[0m \u001b[0;34m**\u001b[0m\u001b[0mkwargs\u001b[0m\u001b[0;34m)\u001b[0m\u001b[0;34m\u001b[0m\u001b[0;34m\u001b[0m\u001b[0m\n\u001b[0m\u001b[1;32m   1357\u001b[0m \u001b[0;34m\u001b[0m\u001b[0m\n\u001b[1;32m   1358\u001b[0m \u001b[0;34m\u001b[0m\u001b[0m\n",
      "\u001b[0;32m~/anaconda3/lib/python3.6/site-packages/dateutil/parser/_parser.py\u001b[0m in \u001b[0;36mparse\u001b[0;34m(self, timestr, default, ignoretz, tzinfos, **kwargs)\u001b[0m\n\u001b[1;32m    646\u001b[0m \u001b[0;34m\u001b[0m\u001b[0m\n\u001b[1;32m    647\u001b[0m         \u001b[0;32mif\u001b[0m \u001b[0mres\u001b[0m \u001b[0;32mis\u001b[0m \u001b[0;32mNone\u001b[0m\u001b[0;34m:\u001b[0m\u001b[0;34m\u001b[0m\u001b[0;34m\u001b[0m\u001b[0m\n\u001b[0;32m--> 648\u001b[0;31m             \u001b[0;32mraise\u001b[0m \u001b[0mValueError\u001b[0m\u001b[0;34m(\u001b[0m\u001b[0;34m\"Unknown string format:\"\u001b[0m\u001b[0;34m,\u001b[0m \u001b[0mtimestr\u001b[0m\u001b[0;34m)\u001b[0m\u001b[0;34m\u001b[0m\u001b[0;34m\u001b[0m\u001b[0m\n\u001b[0m\u001b[1;32m    649\u001b[0m \u001b[0;34m\u001b[0m\u001b[0m\n\u001b[1;32m    650\u001b[0m         \u001b[0;32mif\u001b[0m \u001b[0mlen\u001b[0m\u001b[0;34m(\u001b[0m\u001b[0mres\u001b[0m\u001b[0;34m)\u001b[0m \u001b[0;34m==\u001b[0m \u001b[0;36m0\u001b[0m\u001b[0;34m:\u001b[0m\u001b[0;34m\u001b[0m\u001b[0;34m\u001b[0m\u001b[0m\n",
      "\u001b[0;31mValueError\u001b[0m: ('Unknown string format:', '10-AUG-17 02.00.53 PM')"
     ]
    }
   ],
   "source": [
    "date_series2 = pd.to_datetime(sfmta['SESSION_START_DT'])\n",
    "date_series2.head(5)"
   ]
  },
  {
   "cell_type": "code",
   "execution_count": null,
   "metadata": {},
   "outputs": [],
   "source": [
    "from datetime import datetime\n",
    "\n",
    "date_series = data['SESSION_START_DT'].apply(datetime.strptime, args=('%d-%b-%y %I.%M.%S %p',))\n",
    "\n",
    "\n",
    "start_date = datetime.strptime('01-Oct-18 12.00.00 AM', '%d-%b-%y %I.%M.%S %p')\n",
    "end_date = datetime.strptime('31-Oct-18 11.59.59 PM', '%d-%b-%y %I.%M.%S %p')\n",
    "\n",
    "def desired_date(time):\n",
    "    if time > start_date and time < end_date:\n",
    "        return True\n",
    "    else:\n",
    "        return False\n",
    "\n",
    "\n",
    "result = [desired_date(i) for i in date_series]"
   ]
  }
 ],
 "metadata": {
  "kernelspec": {
   "display_name": "Python 3",
   "language": "python",
   "name": "python3"
  },
  "language_info": {
   "codemirror_mode": {
    "name": "ipython",
    "version": 3
   },
   "file_extension": ".py",
   "mimetype": "text/x-python",
   "name": "python",
   "nbconvert_exporter": "python",
   "pygments_lexer": "ipython3",
   "version": "3.6.7"
  },
  "toc": {
   "base_numbering": 1,
   "nav_menu": {},
   "number_sections": true,
   "sideBar": true,
   "skip_h1_title": false,
   "title_cell": "Table of Contents",
   "title_sidebar": "Contents",
   "toc_cell": false,
   "toc_position": {},
   "toc_section_display": true,
   "toc_window_display": false
  },
  "varInspector": {
   "cols": {
    "lenName": 16,
    "lenType": 16,
    "lenVar": 40
   },
   "kernels_config": {
    "python": {
     "delete_cmd_postfix": "",
     "delete_cmd_prefix": "del ",
     "library": "var_list.py",
     "varRefreshCmd": "print(var_dic_list())"
    },
    "r": {
     "delete_cmd_postfix": ") ",
     "delete_cmd_prefix": "rm(",
     "library": "var_list.r",
     "varRefreshCmd": "cat(var_dic_list()) "
    }
   },
   "types_to_exclude": [
    "module",
    "function",
    "builtin_function_or_method",
    "instance",
    "_Feature"
   ],
   "window_display": false
  }
 },
 "nbformat": 4,
 "nbformat_minor": 2
}
