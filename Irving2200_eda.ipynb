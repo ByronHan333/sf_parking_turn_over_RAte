{
 "cells": [
  {
   "cell_type": "code",
   "execution_count": 1,
   "metadata": {
    "ExecuteTime": {
     "end_time": "2019-01-17T22:27:57.057332Z",
     "start_time": "2019-01-17T22:27:54.375831Z"
    }
   },
   "outputs": [],
   "source": [
    "from pyspark import SparkContext, SparkConf\n",
    "from pyspark.sql import SparkSession\n",
    "\n",
    "sc = SparkContext.getOrCreate()\n",
    "ss = SparkSession.builder.getOrCreate()"
   ]
  },
  {
   "cell_type": "code",
   "execution_count": 2,
   "metadata": {
    "ExecuteTime": {
     "end_time": "2019-01-17T22:27:57.066651Z",
     "start_time": "2019-01-17T22:27:57.060177Z"
    }
   },
   "outputs": [],
   "source": [
    "from pyspark.sql.types import *"
   ]
  },
  {
   "cell_type": "code",
   "execution_count": 13,
   "metadata": {
    "ExecuteTime": {
     "end_time": "2019-01-17T22:30:54.339685Z",
     "start_time": "2019-01-17T22:30:54.336406Z"
    }
   },
   "outputs": [],
   "source": [
    "from datetime import datetime\n",
    "from pyspark.sql import Row"
   ]
  },
  {
   "cell_type": "code",
   "execution_count": 14,
   "metadata": {
    "ExecuteTime": {
     "end_time": "2019-01-17T22:30:55.747345Z",
     "start_time": "2019-01-17T22:30:55.743952Z"
    }
   },
   "outputs": [],
   "source": [
    "def toTimeSafe(inval):\n",
    "  try:\n",
    "    return datetime.strptime(inval, \"%d-%b-%y %I.%M.%S %p\")\n",
    "  except ValueError:\n",
    "    return None"
   ]
  },
  {
   "cell_type": "code",
   "execution_count": 27,
   "metadata": {
    "ExecuteTime": {
     "end_time": "2019-01-17T22:31:53.763861Z",
     "start_time": "2019-01-17T22:31:53.758819Z"
    }
   },
   "outputs": [],
   "source": [
    "def stringToPost(row):\n",
    "  r = row.split(\",\")\n",
    "  return Row(\n",
    "    r[1].lstrip('\\\"').rstrip('\\\"'),r[2].lstrip('\\\"').rstrip('\\\"'),\n",
    "    toTimeSafe(r[4].lstrip('\\\"').rstrip('\\\"')),\n",
    "    toTimeSafe(r[5].lstrip('\\\"').rstrip('\\\"'))\n",
    "    )"
   ]
  },
  {
   "cell_type": "code",
   "execution_count": 16,
   "metadata": {
    "ExecuteTime": {
     "end_time": "2019-01-17T22:30:57.787958Z",
     "start_time": "2019-01-17T22:30:57.752667Z"
    }
   },
   "outputs": [],
   "source": [
    "dataset = sc.textFile('Irving2200_1month.csv')\n",
    "dataset = dataset.flatMap(lambda x: x.split('\\n'))\n",
    "#dataset = dataset.map(lambda x: x.split(','))"
   ]
  },
  {
   "cell_type": "code",
   "execution_count": 17,
   "metadata": {
    "ExecuteTime": {
     "end_time": "2019-01-17T22:30:58.237686Z",
     "start_time": "2019-01-17T22:30:58.234755Z"
    }
   },
   "outputs": [],
   "source": [
    "#header = dataset.first()\n",
    "#header = [x.lstrip('\\\"').rstrip('\\\"') for x in header]\n",
    "#header"
   ]
  },
  {
   "cell_type": "code",
   "execution_count": 18,
   "metadata": {
    "ExecuteTime": {
     "end_time": "2019-01-17T22:30:58.663247Z",
     "start_time": "2019-01-17T22:30:58.660559Z"
    }
   },
   "outputs": [],
   "source": [
    "#data = dataset.map(lambda row: [x.lstrip('\\\"').rstrip('\\\"') for x in row])\n",
    "#data = data.filter(lambda x: x != header)"
   ]
  },
  {
   "cell_type": "code",
   "execution_count": 19,
   "metadata": {
    "ExecuteTime": {
     "end_time": "2019-01-17T22:30:59.115014Z",
     "start_time": "2019-01-17T22:30:59.111975Z"
    }
   },
   "outputs": [],
   "source": [
    "#data.take(1)"
   ]
  },
  {
   "cell_type": "code",
   "execution_count": 20,
   "metadata": {
    "ExecuteTime": {
     "end_time": "2019-01-17T22:30:59.528574Z",
     "start_time": "2019-01-17T22:30:59.475568Z"
    }
   },
   "outputs": [],
   "source": [
    "dataset_1st = dataset.first()"
   ]
  },
  {
   "cell_type": "code",
   "execution_count": 25,
   "metadata": {
    "ExecuteTime": {
     "end_time": "2019-01-17T22:31:31.655931Z",
     "start_time": "2019-01-17T22:31:31.615296Z"
    }
   },
   "outputs": [
    {
     "data": {
      "text/plain": [
       "['\"1\",\"490-22370\",\"IRVING ST 2200\",\"CREDIT CARD\",\"01-OCT-18 01.06.55 PM\",\"01-OCT-18 02.06.55 PM\",\"NS\",2.25',\n",
       " '\"2\",\"490-22370\",\"IRVING ST 2200\",\"CASH\",\"01-OCT-18 03.24.30 PM\",\"01-OCT-18 03.31.10 PM\",\"NS\",0.25']"
      ]
     },
     "execution_count": 25,
     "metadata": {},
     "output_type": "execute_result"
    }
   ],
   "source": [
    "dataset = dataset.filter(lambda x: x!= dataset_1st)\n",
    "dataset.take(2)"
   ]
  },
  {
   "cell_type": "code",
   "execution_count": 29,
   "metadata": {
    "ExecuteTime": {
     "end_time": "2019-01-17T22:33:12.009291Z",
     "start_time": "2019-01-17T22:33:12.006440Z"
    }
   },
   "outputs": [],
   "source": [
    "revenue = dataset.map(lambda x: stringToPost(x))"
   ]
  },
  {
   "cell_type": "code",
   "execution_count": 32,
   "metadata": {
    "ExecuteTime": {
     "end_time": "2019-01-17T22:33:43.963661Z",
     "start_time": "2019-01-17T22:33:43.959509Z"
    }
   },
   "outputs": [],
   "source": [
    "schema = StructType([ StructField(\"meter_id\", StringType(), False),\n",
    "                      StructField(\"block\", StringType(), False),\n",
    "                      StructField(\"starttime\", TimestampType(), False),\n",
    "                      StructField(\"endtime\", TimestampType(), False)\n",
    "                    ])"
   ]
  },
  {
   "cell_type": "code",
   "execution_count": 33,
   "metadata": {
    "ExecuteTime": {
     "end_time": "2019-01-17T22:33:45.167945Z",
     "start_time": "2019-01-17T22:33:44.718525Z"
    }
   },
   "outputs": [
    {
     "name": "stdout",
     "output_type": "stream",
     "text": [
      "+---------+--------------+-------------------+-------------------+\n",
      "| meter_id|         block|          starttime|            endtime|\n",
      "+---------+--------------+-------------------+-------------------+\n",
      "|490-22370|IRVING ST 2200|2018-10-01 13:06:55|2018-10-01 14:06:55|\n",
      "|490-22370|IRVING ST 2200|2018-10-01 15:24:30|2018-10-01 15:31:10|\n",
      "|490-22370|IRVING ST 2200|2018-10-01 15:37:14|2018-10-01 15:50:34|\n",
      "|490-22370|IRVING ST 2200|2018-10-01 15:59:00|2018-10-01 16:59:00|\n",
      "|490-22370|IRVING ST 2200|2018-10-01 16:59:00|2018-10-01 17:29:00|\n",
      "|490-22370|IRVING ST 2200|2018-10-01 09:01:14|2018-10-01 09:10:34|\n",
      "|490-22370|IRVING ST 2200|2018-10-01 09:46:39|2018-10-01 10:06:39|\n",
      "|490-22370|IRVING ST 2200|2018-10-01 10:08:32|2018-10-01 10:15:12|\n",
      "|490-22370|IRVING ST 2200|2018-10-01 10:11:57|2018-10-01 10:35:12|\n",
      "|490-22370|IRVING ST 2200|2018-10-01 10:26:35|2018-10-01 11:01:52|\n",
      "|490-22370|IRVING ST 2200|2018-10-01 11:23:28|2018-10-01 12:12:48|\n",
      "|490-22370|IRVING ST 2200|2018-10-01 12:17:32|2018-10-01 12:44:12|\n",
      "|490-22370|IRVING ST 2200|2018-10-01 12:47:00|2018-10-01 12:57:00|\n",
      "|490-22370|IRVING ST 2200|2018-10-01 12:57:00|2018-10-01 13:02:00|\n",
      "|490-22370|IRVING ST 2200|2018-10-02 13:19:09|2018-10-02 13:25:49|\n",
      "|490-22370|IRVING ST 2200|2018-10-02 13:40:06|2018-10-02 14:05:26|\n",
      "|490-22370|IRVING ST 2200|2018-10-02 13:44:36|2018-10-02 14:38:46|\n",
      "|490-22370|IRVING ST 2200|2018-10-02 14:33:51|2018-10-02 14:58:46|\n",
      "|490-22370|IRVING ST 2200|2018-10-02 15:25:56|2018-10-02 15:39:16|\n",
      "|490-22370|IRVING ST 2200|2018-10-02 15:34:54|2018-10-02 15:45:56|\n",
      "+---------+--------------+-------------------+-------------------+\n",
      "only showing top 20 rows\n",
      "\n"
     ]
    }
   ],
   "source": [
    "revenue_df = ss.createDataFrame(revenue, schema)\n",
    "revenue_df.show()"
   ]
  },
  {
   "cell_type": "code",
   "execution_count": null,
   "metadata": {},
   "outputs": [],
   "source": []
  }
 ],
 "metadata": {
  "kernelspec": {
   "display_name": "Python 3",
   "language": "python",
   "name": "python3"
  },
  "language_info": {
   "codemirror_mode": {
    "name": "ipython",
    "version": 3
   },
   "file_extension": ".py",
   "mimetype": "text/x-python",
   "name": "python",
   "nbconvert_exporter": "python",
   "pygments_lexer": "ipython3",
   "version": "3.6.6"
  }
 },
 "nbformat": 4,
 "nbformat_minor": 2
}
